{
  "nbformat": 4,
  "nbformat_minor": 0,
  "metadata": {
    "colab": {
      "provenance": []
    },
    "kernelspec": {
      "name": "python3",
      "display_name": "Python 3"
    },
    "language_info": {
      "name": "python"
    }
  },
  "cells": [
    {
      "cell_type": "code",
      "execution_count": null,
      "metadata": {
        "id": "i0SSf4y97XVA"
      },
      "outputs": [],
      "source": []
    },
    {
      "cell_type": "markdown",
      "source": [
        "#THEORY QUESTIONS"
      ],
      "metadata": {
        "id": "1SrMgkCC7bu6"
      }
    },
    {
      "cell_type": "markdown",
      "source": [
        "1.What is a RESTful API?\n",
        "\n",
        "- A RESTful API (Representational State Transfer API) is a web service that follows REST (Representational State Transfer) principles to allow communication between clients and servers over the internet. It uses standard HTTP methods to perform operations on resources, typically represented as URLs."
      ],
      "metadata": {
        "id": "o7sC-X8G7gB6"
      }
    },
    {
      "cell_type": "markdown",
      "source": [
        "2. Explain the concept of API specification?\n",
        "\n",
        "- An API specification is a detailed document or standard that defines how an API should behave. It serves as a contract between the API provider and consumers, ensuring consistency, interoperability, and clarity in communication.\n",
        "\n"
      ],
      "metadata": {
        "id": "RY3emEQG77wt"
      }
    },
    {
      "cell_type": "markdown",
      "source": [
        "3.What is Flask, and why is it popular for building APIs?\n",
        "\n",
        "- Flask is a lightweight, Python-based web framework that is widely used to build web applications and APIs. It follows a minimalistic and modular design, allowing developers to add only the components they need.\n",
        "\n",
        "1.Lightweight & Minimal\n",
        "\n",
        "- Unlike frameworks like Django, Flask does not include unnecessary features, making it fast and efficient.\n",
        "\n",
        "2.Easy to Learn & Use\n",
        "\n",
        "- Flask’s simple syntax and minimal boilerplate make it beginner-friendly.\n",
        "\n",
        "3.Built-in Development Server & Debugger\n",
        "\n",
        "- Comes with a built-in web server and debugger, simplifying local API testing."
      ],
      "metadata": {
        "id": "eeuaOVEC8MB9"
      }
    },
    {
      "cell_type": "markdown",
      "source": [
        "4. What is routing in Flask?\n",
        "\n",
        "- Routing in Flask refers to mapping URLs (endpoints) to specific functions in a web application or API. It determines how the application responds to different requests made by users or clients.\n",
        "\n",
        "Flask uses the @app.route() decorator to define routes, associating a URL path with a Python function.\n",
        "\n"
      ],
      "metadata": {
        "id": "fg_r7-xY8wTU"
      }
    },
    {
      "cell_type": "markdown",
      "source": [
        "5.How do you create a simple Flask application?\n",
        "\n",
        "- Flask makes it easy to build web applications and APIs in Python. Below is a step-by-step guide to creating a basic Flask app.\n",
        "\n",
        "Step 1: Install Flask\n",
        "\n",
        "Step 2: Create a Flask Application\n",
        "\n",
        "Step 3: Run the Application\n",
        "\n",
        "Step 4: Add More Routes\n",
        "\n",
        "Step 5: Returning JSON (API Response)\n",
        "\n",
        "Step 6: Handling POST Requests\n",
        "\n",
        "Step 7: Running in Production Mode"
      ],
      "metadata": {
        "id": "jg5dAJsZ9efx"
      }
    },
    {
      "cell_type": "markdown",
      "source": [
        "6.What are HTTP methods used in RESTful APIs?\n",
        "\n",
        "- RESTful APIs use HTTP methods to perform operations on resources. These methods map to CRUD (Create, Read, Update, Delete) actions.\n"
      ],
      "metadata": {
        "id": "dUByoc30_MWm"
      }
    },
    {
      "cell_type": "markdown",
      "source": [
        "7.What is the purpose of the @app.route() decorator in Flask?\n",
        "\n",
        "- Purpose of the @app.route() Decorator in Flask\n",
        "In Flask, the @app.route() decorator is used to define routes, mapping URLs to specific functions that handle HTTP requests.\n",
        "\n"
      ],
      "metadata": {
        "id": "pMYDoCceA-9E"
      }
    },
    {
      "cell_type": "markdown",
      "source": [
        "8.What is the difference between GET and POST HTTP methods?\n",
        "\n",
        "- The GET and POST HTTP methods are used for different purposes in web communication. GET is used to retrieve data from a server and does not modify any resources, making it safe and idempotent (repeated requests return the same result). GET requests send parameters in the URL, making them visible and unsuitable for sensitive data. In contrast, POST is used to send data to the server to create or update a resource, making it non-idempotent (multiple requests may create duplicate entries). POST requests send data in the request body, making them more secure for transmitting sensitive information like passwords or form submissions. While GET is preferred for retrieving information, POST is used when making changes to the server.\n"
      ],
      "metadata": {
        "id": "d1PXEcc-BWm2"
      }
    },
    {
      "cell_type": "markdown",
      "source": [
        "9.How do you handle errors in Flask APIs?\n",
        "\n",
        "- In Flask, error handling ensures that your API returns meaningful responses when something goes wrong. There are several ways to handle errors effectively.\n",
        "\n"
      ],
      "metadata": {
        "id": "0qsnIlswCVCz"
      }
    },
    {
      "cell_type": "markdown",
      "source": [
        "10.How do you connect Flask to a SQL database?\n",
        "\n",
        "- To connect Flask to a SQL database, you can use Flask-SQLAlchemy, a popular ORM (Object Relational Mapper) that simplifies database interactions. Below is a step-by-step guide.\n",
        "\n",
        "1. Install Flask-SQLAlchemy\n",
        "\n",
        "2.Configure Flask with SQLAlchemy\n",
        "\n",
        "3.Using SQLAlchemy to Perform CRUD Operations\n",
        "\n",
        "4.Using Other Databases (PostgreSQL, MySQL)\n",
        "\n",
        "5.Using Flask-Migrate for Database Migrations (Optional)\n",
        "\n",
        "\n"
      ],
      "metadata": {
        "id": "Q3gBIAt4CuB0"
      }
    },
    {
      "cell_type": "markdown",
      "source": [
        "11. What is the role of Flask-SQLAlchemy?\n",
        "\n",
        "- Flask-SQLAlchemy is an Object Relational Mapper (ORM) for Flask that simplifies database interactions by allowing developers to use Python classes instead of raw SQL queries. It integrates SQLAlchemy with Flask, making database operations more intuitive and efficient.\n",
        "\n"
      ],
      "metadata": {
        "id": "nUD7TZB-DqFR"
      }
    },
    {
      "cell_type": "markdown",
      "source": [
        "12.What are Flask blueprints, and how are they useful?\n",
        "\n",
        "- Flask Blueprints are a way to organize large Flask applications into modular components. Instead of defining all routes in a single app.py file, Blueprints allow you to structure different parts of your app (e.g., authentication, user management, etc.) into separate files.\n",
        "\n"
      ],
      "metadata": {
        "id": "lVkwOx3JD-5H"
      }
    },
    {
      "cell_type": "markdown",
      "source": [
        "13.What is the purpose of Flask's request object/\n",
        "\n",
        "- Flask’s request object is used to access data sent by the client (browser, mobile app, or API consumer) to the Flask server. It allows handling form data, JSON data, headers, cookies, query parameters, and file uploads."
      ],
      "metadata": {
        "id": "vsNOPnyZET0h"
      }
    },
    {
      "cell_type": "markdown",
      "source": [
        "14. How do you create a RESTful API endpoint using Flask?\n",
        "\n",
        "- Flask makes it easy to create RESTful API endpoints. Below is a step-by-step guide on how to set up a simple REST API using Flask and Flask-SQLAlchemy.\n",
        "\n",
        "steps\n",
        "\n",
        "1. Install Flask\n",
        "\n",
        "2. Set Up a Basic Flask App with a RESTful API Endpoint\n",
        "\n",
        "3. Explanation of API Endpoints\n",
        "\n",
        "4.Testing the API Using cURL or Postman\n",
        "\n",
        "5. Enhancements for Production\n",
        "\n"
      ],
      "metadata": {
        "id": "Leqtk9rrE_zi"
      }
    },
    {
      "cell_type": "markdown",
      "source": [
        "15.What is the purpose of Flask's jsonify() function?\n",
        "\n",
        "- Flask’s jsonify() function is used to convert Python data structures (like dictionaries and lists) into JSON format. It also automatically sets the Content-Type header to application/json, making it ideal for RESTful APIs."
      ],
      "metadata": {
        "id": "rpFjbhEjGDoR"
      }
    },
    {
      "cell_type": "markdown",
      "source": [
        "16.Explain Flask’s url_for() function.\n",
        "\n",
        "- Flask’s url_for() function generates dynamic URLs for routes based on their function names. Instead of hardcoding URLs, url_for() ensures flexibility and prevents broken links when routes change."
      ],
      "metadata": {
        "id": "bbQaJdqOGYpB"
      }
    },
    {
      "cell_type": "markdown",
      "source": [
        "17.How does Flask handle static files (CSS, JavaScript, etc.)?\n",
        "\n",
        "- Flask handles static files (such as CSS, JavaScript, and images) using the static folder inside your project directory. Here's how it works:\n",
        "\n",
        "1. Default Static Folder\n",
        "By default, Flask looks for static files in a folder named static located in the root of your Flask project.\n",
        "\n",
        "- You can place your CSS, JavaScript, and image files inside this folder.\n",
        "\n",
        "2. Referencing Static Files in HTML\n",
        "- You can reference static files in your HTML templates using the url_for() function:\n",
        "\n",
        "3. Serving Static Files\n",
        "When running Flask in development mode, static files are automatically served from the static folder.\n",
        "\n",
        "- In production, it’s recommended to serve static files using a web server like Nginx or Apache for better performance.\n",
        "\n",
        "4. Custom Static Folder\n",
        "- If you want to use a different folder instead of static, you can specify it when creating the Flask app:\n",
        "\n"
      ],
      "metadata": {
        "id": "0u31FhoFE0cD"
      }
    },
    {
      "cell_type": "markdown",
      "source": [
        "18.What is an API specification, and how does it help in building a Flask API?\n",
        "\n",
        "- An API specification is a formal document or blueprint that defines how an API should behave. It outlines details like available endpoints, request and response formats, authentication methods, status codes, and data structures.\n",
        "\n",
        "- Common API specification formats include:\n",
        "\n",
        "- OpenAPI (Swagger) – Widely used for REST APIs\n",
        "\n",
        "- RAML (RESTful API Modeling Language)\n",
        "\n",
        "- GraphQL Schema – Defines queries and mutations for GraphQL APIs\n",
        "\n"
      ],
      "metadata": {
        "id": "wlY6zJGJFloO"
      }
    },
    {
      "cell_type": "markdown",
      "source": [
        "19. What are HTTP status codes, and why are they important in a Flask API?\n",
        "\n",
        "- HTTP status codes are standardized response codes used by web servers to indicate the result of a client's request. They help communicate whether a request was successful, failed, or requires further action.\n",
        "\n",
        "Each status code consists of three digits and falls into one of five categories:\n",
        "\n",
        " Category\tcode  Range\t      Description\n",
        "- 1xx\t100-199\tInformational (Request received, continuing process)\n",
        "\n",
        "- 2xx\t200-299\tSuccess (Request processed successfully)\n",
        "\n",
        "- 3xx\t300-399\tRedirection (Further action needed)\n",
        "\n",
        "- 4xx\t400-499\tClient Errors (Invalid request from the client)\n",
        "\n",
        "- 5xx\t500-599\tServer Errors (Server failed to fulfill a valid request)\n",
        "\n",
        "\n",
        "- Why Are HTTP Status Codes Important in a Flask API?\n",
        "\n",
        "1️⃣ Clear Communication: They tell clients (frontend, third-party services, etc.) what happened with their request.\n",
        "\n",
        "2️⃣ Better Debugging: Developers can quickly identify issues (e.g., 400 Bad Request for malformed input).\n",
        "\n",
        "3️⃣ REST API Best Practices: A well-designed API follows proper HTTP status codes, improving usability.\n",
        "\n",
        "4️⃣ Error Handling: Helps in defining structured error responses for better troubleshooting.\n",
        "\n"
      ],
      "metadata": {
        "id": "3duWLWMdF5XE"
      }
    },
    {
      "cell_type": "markdown",
      "source": [
        "20.How do you handle POST requests in Flask?\n",
        "\n",
        "- A POST request in Flask is used to send data to the server, typically for creating new resources. Handling POST requests involves:\n",
        "\n",
        "1.Setting up a route that accepts POST requests\n",
        "\n",
        "2.Parsing incoming data (JSON, form data, etc.)\n",
        "\n",
        "3.Processing and responding with appropriate status codes\n",
        "\n"
      ],
      "metadata": {
        "id": "B7mgpLTdHHcO"
      }
    },
    {
      "cell_type": "markdown",
      "source": [
        "21. How would you secure a Flask API?\n",
        "\n",
        "- Securing a Flask API is essential to protect data, prevent unauthorized access, and mitigate security vulnerabilities. Below are key security practices for a Flask API:\n",
        "\n",
        "1️⃣ Use HTTPS (SSL/TLS)\n",
        "\n",
        "- Always encrypt API communication using HTTPS to prevent man-in-the-middle (MITM) attacks.\n",
        "\n",
        "- In development, use Flask-Talisman to enforce HTTPS:\n",
        "\n",
        "- 2️⃣ Use API Authentication & Authorization\n",
        "To restrict access, implement authentication methods:\n",
        "\n",
        "-  Token-Based Authentication (JWT)\n",
        "JSON Web Tokens (JWT) allow secure user authentication.\n",
        "\n",
        "- Install Flask-JWT-Extended:\n",
        "\n",
        "-  API Key Authentication\n",
        "\n",
        "Generate API keys for clients and verify them in requests."
      ],
      "metadata": {
        "id": "YUIGX9EvHec4"
      }
    },
    {
      "cell_type": "markdown",
      "source": [
        "22.What is the significance of the Flask-RESTful extension?\n",
        "\n",
        "- Flask-RESTful is an extension for Flask that simplifies the development of REST APIs by providing tools to manage routing, request parsing, and response formatting. It helps structure API endpoints in a cleaner and more maintainable way.\n",
        "\n"
      ],
      "metadata": {
        "id": "nz4ymrhvIINq"
      }
    },
    {
      "cell_type": "markdown",
      "source": [
        "23.What is the role of Flask’s session object?\n",
        "\n",
        "\n",
        "- The session object in Flask is used to store data across multiple requests for a specific user. It enables state management, allowing an application to remember user-related data between requests.\n",
        "\n",
        "-  Key Features of Flask’s session Object\n",
        "\n",
        "1. Stores user-specific data across requests\n",
        "\n",
        "2. Persists data on the client side using cookies\n",
        "\n",
        "3. Uses signed cookies to prevent tampering\n",
        "\n",
        "4. Can be configured to use server-side storage (e.g., Redis, database)\n",
        "\n"
      ],
      "metadata": {
        "id": "_F_6052yIaPP"
      }
    },
    {
      "cell_type": "markdown",
      "source": [
        "#PRACTICAL QUESTIONS"
      ],
      "metadata": {
        "id": "TAGoHQAUI97T"
      }
    },
    {
      "cell_type": "markdown",
      "source": [
        "1.How do you create a basic Flask application?"
      ],
      "metadata": {
        "id": "anH_Ts4yJE5J"
      }
    },
    {
      "cell_type": "code",
      "source": [
        "from flask import Flask\n",
        "\n",
        "app = Flask(__name__)\n",
        "\n",
        "@app.route(\"/\")\n",
        "def home():\n",
        "    return \"Hello, Flask!\"\n",
        "\n",
        "if __name__ == \"__main__\":\n",
        "    app.run(debug=True)\n"
      ],
      "metadata": {
        "id": "4yo4tdq7JMBW"
      },
      "execution_count": null,
      "outputs": []
    },
    {
      "cell_type": "markdown",
      "source": [
        "2.How do you serve static files like images or CSS in Flask?"
      ],
      "metadata": {
        "id": "XvFX_iX1JoZP"
      }
    },
    {
      "cell_type": "code",
      "source": [
        "from flask import Flask, render_template\n",
        "\n",
        "app = Flask(__name__)\n",
        "\n",
        "@app.route(\"/\")\n",
        "def home():\n",
        "    return render_template(\"index.html\")\n",
        "\n",
        "if __name__ == \"__main__\":\n",
        "    app.run(debug=True)\n"
      ],
      "metadata": {
        "id": "7iXC9s6uJtgD"
      },
      "execution_count": null,
      "outputs": []
    },
    {
      "cell_type": "markdown",
      "source": [
        "3.How do you define different routes with different HTTP methods in Flask?"
      ],
      "metadata": {
        "id": "e3GeaZLYJ-Op"
      }
    },
    {
      "cell_type": "code",
      "source": [
        "from flask import Flask, request\n",
        "\n",
        "app = Flask(__name__)\n",
        "\n",
        "@app.route(\"/\", methods=[\"GET\"])\n",
        "def home():\n",
        "    return \"Welcome to the Home Page!\"\n",
        "\n",
        "@app.route(\"/submit\", methods=[\"POST\"])\n",
        "def submit():\n",
        "    data = request.get_json()\n",
        "    return {\"message\": \"Data received!\", \"data\": data}, 201\n",
        "\n",
        "@app.route(\"/update\", methods=[\"PUT\"])\n",
        "def update():\n",
        "    return \"Update successful!\", 200\n",
        "\n",
        "@app.route(\"/delete\", methods=[\"DELETE\"])\n",
        "def delete():\n",
        "    return \"Resource deleted!\", 200\n",
        "\n",
        "if __name__ == \"__main__\":\n",
        "    app.run(debug=True)\n"
      ],
      "metadata": {
        "id": "bJkHJuasKDr4"
      },
      "execution_count": null,
      "outputs": []
    },
    {
      "cell_type": "markdown",
      "source": [
        "4.How do you render HTML templates in Flask?"
      ],
      "metadata": {
        "id": "BAVdRVHrKLGg"
      }
    },
    {
      "cell_type": "code",
      "source": [
        "from flask import Flask, render_template\n",
        "\n",
        "app = Flask(__name__)\n",
        "\n",
        "@app.route(\"/\")\n",
        "def home():\n",
        "    return render_template(\"index.html\", name=\"Alice\")\n",
        "\n",
        "if __name__ == \"__main__\":\n",
        "    app.run(debug=True)\n"
      ],
      "metadata": {
        "id": "PIudcF7IKR4x"
      },
      "execution_count": null,
      "outputs": []
    },
    {
      "cell_type": "markdown",
      "source": [
        "5.How can you generate URLs for routes in Flask using url_for?"
      ],
      "metadata": {
        "id": "6n3z2cC6KnfW"
      }
    },
    {
      "cell_type": "code",
      "source": [
        "from flask import Flask, url_for, redirect\n",
        "\n",
        "app = Flask(__name__)\n",
        "\n",
        "@app.route(\"/\")\n",
        "def home():\n",
        "    return f'Home Page - Go to <a href=\"{url_for(\"profile\", username=\"Alice\")}\">Alice\\'s Profile</a>'\n",
        "\n",
        "@app.route(\"/profile/<username>\")\n",
        "def profile(username):\n",
        "    return f\"Welcome to {username}'s profile!\"\n",
        "\n",
        "@app.route(\"/redirect-home\")\n",
        "def go_home():\n",
        "    return redirect(url_for(\"home\"))\n",
        "\n",
        "if __name__ == \"__main__\":\n",
        "    app.run(debug=True)\n"
      ],
      "metadata": {
        "id": "gufjSUqIK1OF"
      },
      "execution_count": null,
      "outputs": []
    },
    {
      "cell_type": "markdown",
      "source": [
        "6.How do you handle forms in Flask?"
      ],
      "metadata": {
        "id": "egpPgzqfK7uB"
      }
    },
    {
      "cell_type": "code",
      "source": [
        "from flask import Flask, render_template, request\n",
        "\n",
        "app = Flask(__name__)\n",
        "\n",
        "@app.route(\"/\", methods=[\"GET\", \"POST\"])\n",
        "def form():\n",
        "    if request.method == \"POST\":\n",
        "        username = request.form[\"username\"]\n",
        "        return f\"Hello, {username}!\"\n",
        "    return render_template(\"form.html\")\n",
        "\n",
        "if __name__ == \"__main__\":\n",
        "    app.run(debug=True)\n"
      ],
      "metadata": {
        "id": "Ji_9R24IK9dD"
      },
      "execution_count": null,
      "outputs": []
    },
    {
      "cell_type": "markdown",
      "source": [
        "7.How can you validate form data in Flask?"
      ],
      "metadata": {
        "id": "jQsFD6HLLEJ5"
      }
    },
    {
      "cell_type": "code",
      "source": [
        "from flask import Flask, render_template, request\n",
        "\n",
        "app = Flask(__name__)\n",
        "\n",
        "@app.route(\"/\", methods=[\"GET\", \"POST\"])\n",
        "def form():\n",
        "    error = None\n",
        "    if request.method == \"POST\":\n",
        "        username = request.form.get(\"username\")\n",
        "        if not username:  # Basic validation\n",
        "            error = \"Username is required!\"\n",
        "        else:\n",
        "            return f\"Hello, {username}!\"\n",
        "    return render_template(\"form.html\", error=error)\n",
        "\n",
        "if __name__ == \"__main__\":\n",
        "    app.run(debug=True)\n"
      ],
      "metadata": {
        "id": "1_Li2duSLIhB"
      },
      "execution_count": null,
      "outputs": []
    },
    {
      "cell_type": "markdown",
      "source": [
        "8. How do you manage sessions in Flask?"
      ],
      "metadata": {
        "id": "kQALGy6ILNxq"
      }
    },
    {
      "cell_type": "code",
      "source": [
        "from flask import Flask, session\n",
        "\n",
        "app = Flask(__name__)\n",
        "app.secret_key = \"supersecretkey\"  # Required for session security\n",
        "\n",
        "@app.route(\"/set_session/<name>\")\n",
        "def set_session(name):\n",
        "    session[\"username\"] = name  # Store data in session\n",
        "    return f\"Session set for {name}!\"\n",
        "\n",
        "@app.route(\"/get_session\")\n",
        "def get_session():\n",
        "    username = session.get(\"username\")  # Retrieve session data\n",
        "    return f\"Hello, {username}!\" if username else \"No session found.\"\n",
        "\n",
        "@app.route(\"/logout\")\n",
        "def logout():\n",
        "    session.pop(\"username\", None)  # Remove session data\n",
        "    return \"Logged out!\"\n",
        "\n",
        "if __name__ == \"__main__\":\n",
        "    app.run(debug=True)\n"
      ],
      "metadata": {
        "id": "6607oWC3LXTh"
      },
      "execution_count": null,
      "outputs": []
    },
    {
      "cell_type": "markdown",
      "source": [
        "9. How do you redirect to a different route in Flask?"
      ],
      "metadata": {
        "id": "AzGZ9nLuLYt3"
      }
    },
    {
      "cell_type": "code",
      "source": [
        "from flask import Flask, redirect, url_for\n",
        "\n",
        "app = Flask(__name__)\n",
        "\n",
        "@app.route(\"/\")\n",
        "def home():\n",
        "    return \"Welcome to the Home Page!\"\n",
        "\n",
        "@app.route(\"/dashboard\")\n",
        "def dashboard():\n",
        "    return \"Welcome to the Dashboard!\"\n",
        "\n",
        "@app.route(\"/go-to-dashboard\")\n",
        "def go_to_dashboard():\n",
        "    return redirect(url_for(\"dashboard\"))  # Redirect to /dashboard\n",
        "\n",
        "if __name__ == \"__main__\":\n",
        "    app.run(debug=True)\n"
      ],
      "metadata": {
        "id": "KmQDYDsBLd0T"
      },
      "execution_count": null,
      "outputs": []
    },
    {
      "cell_type": "markdown",
      "source": [
        "10.How do you handle errors in Flask (e.g., 404)?"
      ],
      "metadata": {
        "id": "3d6eUjrLLiuZ"
      }
    },
    {
      "cell_type": "code",
      "source": [
        "from flask import Flask\n",
        "\n",
        "app = Flask(__name__)\n",
        "\n",
        "@app.errorhandler(404)\n",
        "def page_not_found(error):\n",
        "    return \"Oops! Page not found.\", 404\n",
        "\n",
        "if __name__ == \"__main__\":\n",
        "    app.run(debug=True)\n"
      ],
      "metadata": {
        "id": "awSUFoHXMjxx"
      },
      "execution_count": null,
      "outputs": []
    },
    {
      "cell_type": "markdown",
      "source": [
        "11.How do you structure a Flask app using Blueprints?"
      ],
      "metadata": {
        "id": "VpDia5PLMtkl"
      }
    },
    {
      "cell_type": "code",
      "source": [
        "/myapp\n",
        "│── app.py                # Main entry point\n",
        "│── config.py             # Configuration settings\n",
        "│── /blueprints\n",
        "│   ├── __init__.py       # Initializes Blueprints\n",
        "│   ├── auth.py           # Authentication routes\n",
        "│   ├── dashboard.py      # Dashboard routes\n",
        "│── /templates\n",
        "│   ├── home.html\n",
        "│   ├── dashboard.html\n",
        "│── /static\n",
        "│   ├── styles.css\n"
      ],
      "metadata": {
        "id": "OcljOSdYMyEv"
      },
      "execution_count": null,
      "outputs": []
    },
    {
      "cell_type": "markdown",
      "source": [
        "12.How do you define a custom Jinja filter in Flask?"
      ],
      "metadata": {
        "id": "iqM82tQaM4Wb"
      }
    },
    {
      "cell_type": "code",
      "source": [
        "from flask import Flask, render_template\n",
        "\n",
        "app = Flask(__name__)\n",
        "\n",
        "# Custom Jinja filter\n",
        "@app.template_filter(\"reverse_upper\")\n",
        "def reverse_upper(s):\n",
        "    return s[::-1].upper()  # Reverse & uppercase the string\n",
        "\n",
        "@app.route(\"/\")\n",
        "def home():\n",
        "    return render_template(\"index.html\", name=\"Flask\")\n",
        "\n",
        "if __name__ == \"__main__\":\n",
        "    app.run(debug=True)\n"
      ],
      "metadata": {
        "id": "ezMdXvPsM-5V"
      },
      "execution_count": null,
      "outputs": []
    },
    {
      "cell_type": "markdown",
      "source": [
        "13.How can you redirect with query parameters in Flask?"
      ],
      "metadata": {
        "id": "OjhEHnDZNHeO"
      }
    },
    {
      "cell_type": "code",
      "source": [
        "from flask import Flask, redirect, url_for, request\n",
        "\n",
        "app = Flask(__name__)\n",
        "\n",
        "@app.route(\"/\")\n",
        "def home():\n",
        "    return \"Welcome to the Home Page!\"\n",
        "\n",
        "@app.route(\"/dashboard\")\n",
        "def dashboard():\n",
        "    user = request.args.get(\"user\", \"Guest\")  # Retrieve query param\n",
        "    return f\"Welcome, {user}!\"\n",
        "\n",
        "@app.route(\"/redirect-to-dashboard\")\n",
        "def redirect_to_dashboard():\n",
        "    return redirect(url_for(\"dashboard\", user=\"Alice\"))  # Pass query params\n",
        "\n",
        "if __name__ == \"__main__\":\n",
        "    app.run(debug=True)\n"
      ],
      "metadata": {
        "id": "Q-y5ZALiNNGZ"
      },
      "execution_count": null,
      "outputs": []
    },
    {
      "cell_type": "markdown",
      "source": [
        "14.How do you return JSON responses in Flask?"
      ],
      "metadata": {
        "id": "-sr9EeDyNTm7"
      }
    },
    {
      "cell_type": "code",
      "source": [
        "from flask import Flask, jsonify\n",
        "\n",
        "app = Flask(__name__)\n",
        "\n",
        "@app.route(\"/api/user\")\n",
        "def get_user():\n",
        "    user_data = {\"name\": \"Alice\", \"age\": 25, \"city\": \"New York\"}\n",
        "    return jsonify(user_data)  # Converts dictionary to JSON\n",
        "\n",
        "if __name__ == \"__main__\":\n",
        "    app.run(debug=True)\n"
      ],
      "metadata": {
        "id": "T0rdYFEMNYWu"
      },
      "execution_count": null,
      "outputs": []
    },
    {
      "cell_type": "markdown",
      "source": [
        "15.How do you capture URL parameters in Flask?\n"
      ],
      "metadata": {
        "id": "AGVOU9dwNhwl"
      }
    },
    {
      "cell_type": "code",
      "source": [
        "from flask import Flask\n",
        "\n",
        "app = Flask(__name__)\n",
        "\n",
        "@app.route(\"/user/<username>\")  # Capture 'username' from URL\n",
        "def show_user(username):\n",
        "    return f\"Hello, {username}!\"\n",
        "\n",
        "if __name__ == \"__main__\":\n",
        "    app.run(debug=True)\n"
      ],
      "metadata": {
        "id": "6QM7s8tVNjek"
      },
      "execution_count": null,
      "outputs": []
    }
  ]
}