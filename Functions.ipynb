{
  "nbformat": 4,
  "nbformat_minor": 0,
  "metadata": {
    "colab": {
      "provenance": []
    },
    "kernelspec": {
      "name": "python3",
      "display_name": "Python 3"
    },
    "language_info": {
      "name": "python"
    }
  },
  "cells": [
    {
      "cell_type": "code",
      "execution_count": null,
      "metadata": {
        "id": "CirM_Y1vQHrJ"
      },
      "outputs": [],
      "source": [
        "# Theory Questions:\n"
      ]
    },
    {
      "cell_type": "markdown",
      "source": [
        "1. what is the diffrence between a functions and a method in python?\n"
      ],
      "metadata": {
        "id": "P_YxgelyRYpP"
      }
    },
    {
      "cell_type": "markdown",
      "source": [
        "- In Python, the difference between a function and a method mainly lies in how they are used and what they are associated with:\n",
        "\n",
        "Function:\n",
        "\n",
        "- A function is a standalone block of reusable code.\n",
        "\n",
        "- It is defined using the def keyword.\n",
        "\n",
        "\n",
        "\n",
        "\n",
        "\n",
        "\n",
        "\n"
      ],
      "metadata": {
        "id": "PZHFKTriSOZH"
      }
    },
    {
      "cell_type": "code",
      "source": [
        "def greet(name):\n",
        "    return f\"Hello, {name}!\"\n",
        "\n",
        "print(greet(\"Lama\"))  # Output: Hello, Lama!\n"
      ],
      "metadata": {
        "id": "h-kcqMzCSu9U"
      },
      "execution_count": null,
      "outputs": []
    },
    {
      "cell_type": "markdown",
      "source": [
        "Method:\n",
        "\n",
        "- A method is a function that is associated with an object (usually a class instance).\n",
        "\n",
        "- It is called on an object and often works with that object's data."
      ],
      "metadata": {
        "id": "4aqBpjKtS9wP"
      }
    },
    {
      "cell_type": "markdown",
      "source": [],
      "metadata": {
        "id": "KAzFuv3cRVyO"
      }
    },
    {
      "cell_type": "code",
      "source": [
        "class Person:\n",
        "    def __init__(self, name):\n",
        "        self.name = name\n",
        "\n",
        "    def greet(self):\n",
        "        return f\"Hello, {self.name}!\"\n",
        "\n",
        "p = Person(\"Lama\")\n",
        "print(p.greet())  # Output: Hello, Lama!\n"
      ],
      "metadata": {
        "id": "22-6aX_tTG0V"
      },
      "execution_count": null,
      "outputs": []
    },
    {
      "cell_type": "markdown",
      "source": [
        "2.Explain the concept of functions arguments and parameters in python?"
      ],
      "metadata": {
        "id": "lLcfUiR1TVY4"
      }
    },
    {
      "cell_type": "markdown",
      "source": [
        "- In Python, function arguments and parameters are essential concepts that define how data is passed into a function.\n",
        "\n",
        "1. Parameters vs. Arguments\n",
        "Parameters: Variables that are listed in a function’s definition. They act as placeholders.\n",
        "Arguments: Actual values passed to a function when calling it.\n",
        "\n",
        "\n",
        "2. Types of Function Arguments\n",
        "Python allows different types of arguments to be passed to functions:\n",
        "\n",
        "A. Positional Arguments\n",
        "Arguments are passed in order, matching the function’s parameters."
      ],
      "metadata": {
        "id": "XXUTHOK5Uasb"
      }
    },
    {
      "cell_type": "markdown",
      "source": [
        "3.what are the different ways to define and call a functions in python?\n",
        "\n",
        "1. Regular Function Definition\n",
        "A function is defined using the def keyword and called using its name.\n",
        "\n",
        "Definition"
      ],
      "metadata": {
        "id": "eJ7qifwqUu4d"
      }
    },
    {
      "cell_type": "code",
      "source": [
        "def greet(name):\n",
        "    return f\"Hello, {name}!\"\n"
      ],
      "metadata": {
        "id": "jfESLW7rVj8P"
      },
      "execution_count": null,
      "outputs": []
    },
    {
      "cell_type": "markdown",
      "source": [
        "calling the functions"
      ],
      "metadata": {
        "id": "SMI-JofoVqxo"
      }
    },
    {
      "cell_type": "markdown",
      "source": [
        "print(greet(\"Alice\"))  # Output: Hello, Alice!\n"
      ],
      "metadata": {
        "id": "w507uVxYVtcy"
      }
    },
    {
      "cell_type": "markdown",
      "source": [
        "2. Function with Default Arguments\n",
        "If an argument is not provided, the default value is used.\n",
        "\n",
        "Definition"
      ],
      "metadata": {
        "id": "3v1F8q3JVz5f"
      }
    },
    {
      "cell_type": "markdown",
      "source": [
        "\n",
        "\n",
        "\n",
        "---\n",
        "\n"
      ],
      "metadata": {
        "id": "waGaU-SAV34x"
      }
    },
    {
      "cell_type": "code",
      "source": [
        "\n",
        "def greet(name=\"Guest\"):\n",
        "    return f\"Hello, {name}!\"\n"
      ],
      "metadata": {
        "id": "3wuhcnLEWGGd"
      },
      "execution_count": null,
      "outputs": []
    },
    {
      "cell_type": "markdown",
      "source": [
        "calling the fuctions"
      ],
      "metadata": {
        "id": "JEBRtS3mWP1b"
      }
    },
    {
      "cell_type": "code",
      "source": [
        "print(greet())       # Output: Hello, Guest!\n",
        "print(greet(\"Tom\"))  # Output: Hello, Tom!\n"
      ],
      "metadata": {
        "id": "crVrl8m8WWf-"
      },
      "execution_count": null,
      "outputs": []
    },
    {
      "cell_type": "markdown",
      "source": [
        "4. what is the purpose of the 'return' statements in a python functions?\n",
        "- Purpose of the return Statement in Python Functions\n",
        "The return statement in Python is used to send back a value from a function to the caller. It terminates the function execution and allows the function to return data.\n",
        "\n",
        "1. Basic Usage of return\n",
        "A function can return a value that can be used later.\n",
        "\n",
        "Example: Returning a Value"
      ],
      "metadata": {
        "id": "TbNa_nu4WaQm"
      }
    },
    {
      "cell_type": "code",
      "source": [
        "def add(a, b):\n",
        "    return a + b  # Returns the sum\n",
        "\n",
        "result = add(5, 3)\n",
        "print(result)  # Output: 8\n"
      ],
      "metadata": {
        "id": "Q5uYhEOsXUA0"
      },
      "execution_count": null,
      "outputs": []
    },
    {
      "cell_type": "markdown",
      "source": [
        "2. Returning Multiple Values\n",
        "Python allows functions to return multiple values as a tuple.\n",
        "\n",
        "Example: Returning Multiple Values"
      ],
      "metadata": {
        "id": "kACcUu9JXYzu"
      }
    },
    {
      "cell_type": "code",
      "source": [
        "def math_operations(a, b):\n",
        "    return a + b, a - b, a * b, a / b  # Returning a tuple\n",
        "\n",
        "result = math_operations(10, 2)\n",
        "print(result)  # Output: (12, 8, 20, 5.0)\n",
        "\n",
        "# Accessing individual values\n",
        "sum_, diff, prod, div = result\n",
        "print(sum_)  # Output: 12\n"
      ],
      "metadata": {
        "id": "CG66qBUoXaAs"
      },
      "execution_count": null,
      "outputs": []
    },
    {
      "cell_type": "markdown",
      "source": [
        "5.what is iterators in python and how do they differ from iterables?\n",
        "- Iterators vs. Iterables in Python\n",
        "Both iterators and iterables are used for looping through elements in Python, but they have key different\n",
        "An iterable is any Python object that contains multiple elements and can be looped over. Examples include lists, tuples, dictionaries, strings, and sets.\n",
        "\n",
        "Example of an Iterable"
      ],
      "metadata": {
        "id": "zmR75VjJXfI-"
      }
    },
    {
      "cell_type": "code",
      "source": [
        "my_list = [1, 2, 3, 4]  # This is an iterable\n",
        "\n",
        "for num in my_list:\n",
        "    print(num)\n"
      ],
      "metadata": {
        "id": "Orzos-DDYMq-"
      },
      "execution_count": null,
      "outputs": []
    },
    {
      "cell_type": "markdown",
      "source": [],
      "metadata": {
        "id": "hbwbNjXLYPXm"
      }
    },
    {
      "cell_type": "markdown",
      "source": [
        "\n",
        "An iterator is an object that produces elements one at a time using the __next__() method (or next() function).\n",
        "\n",
        "How an Iterator Works\n",
        "An iterator:\n",
        "\n",
        "Uses the iter() function to convert an iterable into an iterator.\n",
        "Uses the next() function to get the next item.\n",
        "Example of an Iterator"
      ],
      "metadata": {
        "id": "fR4hGqILYUBo"
      }
    },
    {
      "cell_type": "markdown",
      "source": [],
      "metadata": {
        "id": "8_YY0_5cV8_U"
      }
    },
    {
      "cell_type": "code",
      "source": [
        "my_list = [1, 2, 3, 4]\n",
        "iterator = iter(my_list)  # Convert iterable into an iterator\n",
        "\n",
        "print(next(iterator))  # Output: 1\n",
        "print(next(iterator))  # Output: 2\n",
        "print(next(iterator))  # Output: 3\n",
        "print(next(iterator))  # Output: 4\n",
        "# print(next(iterator))  # Raises StopIteration error (no more items)\n"
      ],
      "metadata": {
        "id": "AStFbShHYoya"
      },
      "execution_count": null,
      "outputs": []
    },
    {
      "cell_type": "markdown",
      "source": [
        "6.Explain the concept of generators in python and how they are defined?\n",
        "- A generator in Python is a special type of function that allows you to generate values one at a time instead of returning them all at once. This makes generators memory-efficient and faster for large datasets.\n",
        "\n",
        "Generators use the yield keyword instead of return. They produce values lazily, meaning they generate the next value only when requested, rather than storing everything in memory.\n",
        "\n",
        "Key Features of Generators\n",
        "\n",
        "- Uses yield Instead of return\n",
        "yield returns a value but remembers the state for the next call.\n",
        "- Lazy Evaluation (On-Demand Execution)\n",
        "Only generates values when needed, making it memory-efficient.\n",
        "- Automatically Implements Iterators\n",
        "No need to write __iter__() or __next__() methods like custom iterators.\n",
        "- Stops with StopIteration\n",
        "When all values are exhausted.\n"
      ],
      "metadata": {
        "id": "_qSqDOugYuaM"
      }
    },
    {
      "cell_type": "markdown",
      "source": [
        "7.what are the advantages of using generators over regular functions?\n",
        "- Advantages of Using Generators Over Regular Functions in Python\n",
        "Generators provide several benefits over regular functions, especially when working with large datasets or streaming data. Here’s why they are useful:\n",
        "\n",
        "1. Memory Efficiency (Lazy Evaluation)\n",
        "\n",
        "-  Generates values on demand instead of storing them all in memory.\n",
        "\n",
        "-  Ideal for handling large data (e.g., reading large files or processing big datasets).\n",
        "\n",
        "\n",
        "2. Faster Execution (No Unnecessary Computation)\n",
        "\n",
        "-  Regular functions compute and return all values at once.\n",
        "-  Generators pause execution and resume only when needed."
      ],
      "metadata": {
        "id": "Z0L9yFrHZtqa"
      }
    },
    {
      "cell_type": "markdown",
      "source": [
        "8.what is a lamda Functions in python and when is it typically used?"
      ],
      "metadata": {
        "id": "NeX4r0draneG"
      }
    },
    {
      "cell_type": "code",
      "source": [],
      "metadata": {
        "id": "YO3qT7Bta_vs"
      },
      "execution_count": null,
      "outputs": []
    },
    {
      "cell_type": "markdown",
      "source": [
        "A lambda function in Python is a small anonymous function that can have multiple arguments but only one expression.\n",
        "It is defined using the lambda keyword and is often used for short, simple functions.\n",
        "\n",
        "Syntax of a Lambda Function"
      ],
      "metadata": {
        "id": "lxvrk1lhbRau"
      }
    },
    {
      "cell_type": "code",
      "source": [
        "lambda arguments: expression\n"
      ],
      "metadata": {
        "id": "TvmICvBhbTHl"
      },
      "execution_count": null,
      "outputs": []
    },
    {
      "cell_type": "markdown",
      "source": [],
      "metadata": {
        "id": "-0QWjghgbVtk"
      }
    },
    {
      "cell_type": "markdown",
      "source": [
        "Examples of Lambda Functions\n",
        "1. Basic Example"
      ],
      "metadata": {
        "id": "vsqLpil6biS5"
      }
    },
    {
      "cell_type": "markdown",
      "source": [
        "add = lambda x, y: x + y\n",
        "print(add(5, 3))  # Output: 8\n"
      ],
      "metadata": {
        "id": "rb_TlsOebnOu"
      }
    },
    {
      "cell_type": "markdown",
      "source": [
        "Lambda functions are commonly used in short, one-time operations where defining a full function is unnecessary.\n",
        "\n",
        "2. Using Lambda with map()\n",
        "map() applies a function to all elements in an iterable.\n",
        "\n",
        "python\n",
        "Copy\n",
        "Edit\n"
      ],
      "metadata": {
        "id": "8Tdb0McHbu74"
      }
    },
    {
      "cell_type": "code",
      "source": [],
      "metadata": {
        "id": "OBIC4vtsbFTP"
      },
      "execution_count": null,
      "outputs": []
    },
    {
      "cell_type": "code",
      "source": [
        "numbers = [1, 2, 3, 4]\n",
        "squared = list(map(lambda x: x ** 2, numbers))\n",
        "print(squared)  # Output: [1, 4, 9, 16]\n"
      ],
      "metadata": {
        "id": "RySveXaIb6RD"
      },
      "execution_count": null,
      "outputs": []
    },
    {
      "cell_type": "markdown",
      "source": [
        "9.Explain the purpose and usages of the 'map() functions in python.\n",
        "- The map() function in Python is used to apply a given function to all elements of an iterable (like a list or tuple) and return a map object (which is an iterator).\n",
        "\n",
        "It is useful when you want to transform or modify all elements in an iterable without using loops.\n",
        "\n",
        "Basic Example\n",
        "\n",
        "Using map() with a Regular Function\n",
        "\n"
      ],
      "metadata": {
        "id": "iJCEjhnrb8vQ"
      }
    },
    {
      "cell_type": "code",
      "source": [
        "def square(x):\n",
        "    return x ** 2\n",
        "\n",
        "numbers = [1, 2, 3, 4]\n",
        "result = map(square, numbers)\n",
        "print(list(result))  # Output: [1, 4, 9, 16]\n"
      ],
      "metadata": {
        "id": "-0L99MVic_Ov"
      },
      "execution_count": null,
      "outputs": []
    },
    {
      "cell_type": "markdown",
      "source": [
        "10.what is the diffrence between 'map()'reduce()and filter() functioins in python?\n",
        "\n",
        "- Difference Between map(), filter(), and reduce() in Python\n",
        "These three functions—map(), filter(), and reduce()—are higher-order functions in Python that process iterables in a functional programming style.\n",
        "\n",
        "-  map() Function\n",
        "\n",
        "- Purpose: Applies a function to each element of an iterable and returns a new iterable with the transformed values.\n",
        "\n",
        "- Returns: A map object (iterator) containing the modified elements.\n",
        "\n",
        "Example: Squaring a List"
      ],
      "metadata": {
        "id": "GywpzRL_dDmN"
      }
    },
    {
      "cell_type": "markdown",
      "source": [
        "-"
      ],
      "metadata": {
        "id": "1oftJ0R4bCKV"
      }
    },
    {
      "cell_type": "code",
      "source": [
        "\n",
        "numbers = [1, 2, 3, 4]\n",
        "\n",
        "squared = list(map(lambda x: x ** 2, numbers))\n",
        "print(squared)  # Output: [1, 4, 9, 16]\n"
      ],
      "metadata": {
        "id": "wBsAlEW0dzRN"
      },
      "execution_count": null,
      "outputs": []
    },
    {
      "cell_type": "markdown",
      "source": [
        "2️⃣ filter() Functions\n",
        "\n",
        "- Purpose: Filters elements from an iterable based on a condition. Only elements where the function returns True are included.\n",
        "\n",
        "- Returns: A filter object (iterator) containing only elements that satisfy the condition.\n",
        "\n",
        "Example: Filtering Even Numbers"
      ],
      "metadata": {
        "id": "slUXmtjld92c"
      }
    },
    {
      "cell_type": "code",
      "source": [
        "numbers = [1, 2, 3, 4, 5, 6]\n",
        "\n",
        "evens = list(filter(lambda x: x % 2 == 0, numbers))\n",
        "print(evens)  # Output: [2, 4, 6]\n"
      ],
      "metadata": {
        "id": "CeMThykjeFCs"
      },
      "execution_count": null,
      "outputs": []
    },
    {
      "cell_type": "markdown",
      "source": [
        "3️⃣ reduce() Function\n",
        "\n",
        "- Purpose: Applies a function cumulatively to elements, reducing them to a single value.\n",
        "\n",
        "-  Returns: A single reduced value (not an iterable).\n",
        "\n",
        "-  Requires: reduce() is part of the functools module.\n",
        "\n",
        "Example: Finding the Product of All Elements"
      ],
      "metadata": {
        "id": "Ko00IwPWeLBT"
      }
    },
    {
      "cell_type": "code",
      "source": [
        "from functools import reduce\n",
        "\n",
        "numbers = [1, 2, 3, 4]\n",
        "\n",
        "product = reduce(lambda x, y: x * y, numbers)\n",
        "print(product)  # Output: 24 (1*2*3*4)\n"
      ],
      "metadata": {
        "id": "Q4LlnzB3eScS"
      },
      "execution_count": null,
      "outputs": []
    },
    {
      "cell_type": "markdown",
      "source": [
        "11.using pen & paper write the internal mechanism for sum operations using reduce functions on this given list :[47,11,42,13];\n",
        "\n",
        "- To understand the internal mechanism of the reduce() function for summing the list [47, 11, 42, 13], let's break it down step by step.\n",
        "\n",
        "Step 1: Import reduce from functools"
      ],
      "metadata": {
        "id": "0o22U3wPeXaU"
      }
    },
    {
      "cell_type": "code",
      "source": [
        "from functools import reduce\n"
      ],
      "metadata": {
        "id": "-IWa5a5yfPOi"
      },
      "execution_count": null,
      "outputs": []
    },
    {
      "cell_type": "markdown",
      "source": [
        "The reduce() function takes:\n",
        "\n",
        "A function that operates on two arguments.\n",
        "An iterable (list in this case).\n",
        "Step 2: Define the List"
      ],
      "metadata": {
        "id": "2CdQCjARfX0M"
      }
    },
    {
      "cell_type": "code",
      "source": [
        "numbers = [47, 11, 42, 13]\n"
      ],
      "metadata": {
        "id": "iCZudM2mfcK3"
      },
      "execution_count": null,
      "outputs": []
    },
    {
      "cell_type": "markdown",
      "source": [
        "Step 3: Apply reduce()"
      ],
      "metadata": {
        "id": "soGpXBLhfkwE"
      }
    },
    {
      "cell_type": "code",
      "source": [
        "result = reduce(lambda x, y: x + y, numbers)\n"
      ],
      "metadata": {
        "id": "0tKwEvr0fnWp"
      },
      "execution_count": null,
      "outputs": []
    },
    {
      "cell_type": "markdown",
      "source": [
        "Step 4: Internal Mechanism (Step-by-Step Computation)\n",
        "Iteration 1:\n",
        "\n",
        "x = 47, y = 11\n",
        "\n",
        "47 + 11 = 58\n",
        "\n",
        "The result 58 is carried forward.\n",
        "\n",
        "Iteration 2:\n",
        "\n",
        "x = 58, y = 42\n",
        "\n",
        "58 + 42 = 100\n",
        "\n",
        "The result 100 is carried forward.\n",
        "\n",
        "Iteration 3:\n",
        "\n",
        "x = 100, y = 13\n",
        "\n",
        "100 + 13 = 113\n",
        "\n",
        "The result 113 is the final output.\n"
      ],
      "metadata": {
        "id": "hUkFzlozftbe"
      }
    },
    {
      "cell_type": "markdown",
      "source": [
        "#PRACTICAL QUESTIONS\n",
        "\n",
        "1.write a python functions that takes a list of numbers as input and returns the sum of all even numbers in the list."
      ],
      "metadata": {
        "id": "3gZknqcif-tc"
      }
    },
    {
      "cell_type": "code",
      "source": [
        "def sum_of_even_numbers(numbers):\n",
        "    return sum(num for num in numbers if num % 2 == 0)\n",
        "\n",
        "# Example usage\n",
        "numbers = [1, 2, 3, 4, 5, 6, 7, 8, 9, 10]\n",
        "print(sum_of_even_numbers(numbers))  # Output: 30 (2+4+6+8+10)\n"
      ],
      "metadata": {
        "id": "oG6NMseshVZy"
      },
      "execution_count": null,
      "outputs": []
    },
    {
      "cell_type": "markdown",
      "source": [
        "2. create a python functions that accepts a string and return the reverse of that string."
      ],
      "metadata": {
        "id": "LB4OWcO_hoV3"
      }
    },
    {
      "cell_type": "code",
      "source": [
        "def reverse_string(s):\n",
        "    return s[::-1]\n",
        "\n",
        "# Example usage\n",
        "print(reverse_string(\"hello\"))  # Output: \"olleh\"\n"
      ],
      "metadata": {
        "id": "WQPOZvHUiZOZ"
      },
      "execution_count": null,
      "outputs": []
    },
    {
      "cell_type": "markdown",
      "source": [
        "3.Implement a python function that takes the lost of integers and return a new list containing the square of each numbers."
      ],
      "metadata": {
        "id": "A4pocK7giaTL"
      }
    },
    {
      "cell_type": "code",
      "source": [
        "def square_numbers(numbers):\n",
        "    return [num ** 2 for num in numbers]\n",
        "\n",
        "# Example usage\n",
        "print(square_numbers([1, 2, 3, 4, 5]))  # Output: [1, 4, 9, 16, 25]\n"
      ],
      "metadata": {
        "id": "KT9d1dvkjDoR"
      },
      "execution_count": null,
      "outputs": []
    },
    {
      "cell_type": "markdown",
      "source": [
        "4. write a python functiion that checks if a given number is prime or not from 1 to 200.\n",
        "\n"
      ],
      "metadata": {
        "id": "kg-6x5bAjEly"
      }
    },
    {
      "cell_type": "code",
      "source": [
        "def is_prime(n):\n",
        "    if n < 2 or n > 200:\n",
        "        return False  # Ensure the number is within the valid range\n",
        "\n",
        "    for i in range(2, int(n ** 0.5) + 1):\n",
        "        if n % i == 0:\n",
        "            return False\n",
        "    return True\n",
        "\n",
        "# Example usage\n",
        "number = int(input(\"Enter a number between 1 and 200: \"))\n",
        "if is_prime(number):\n",
        "    print(f\"{number} is a prime number.\")\n",
        "else:\n",
        "    print(f\"{number} is not a prime number.\")\n"
      ],
      "metadata": {
        "id": "Ynlp0CREDV7_"
      },
      "execution_count": null,
      "outputs": []
    },
    {
      "cell_type": "markdown",
      "source": [
        "5.create an iterator class in python that generates the Fibonacci sequence up to a specified number of terms."
      ],
      "metadata": {
        "id": "9t6IhKMtDXE5"
      }
    },
    {
      "cell_type": "code",
      "source": [
        "class FibonacciIterator:\n",
        "    def __init__(self, n_terms):\n",
        "        self.n_terms = n_terms\n",
        "        self.a, self.b = 0, 1\n",
        "        self.count = 0\n",
        "\n",
        "    def __iter__(self):\n",
        "        return self\n",
        "\n",
        "    def __next__(self):\n",
        "        if self.count >= self.n_terms:\n",
        "            raise StopIteration\n",
        "\n",
        "        if self.count == 0:\n",
        "            self.count += 1\n",
        "            return self.a\n",
        "        elif self.count == 1:\n",
        "            self.count += 1\n",
        "            return self.b\n",
        "\n",
        "        self.a, self.b = self.b, self.a + self.b\n",
        "        self.count += 1\n",
        "        return self.b\n",
        "\n",
        "# Example usage\n",
        "n = int(input(\"Enter the number of Fibonacci terms: \"))\n",
        "fib_iter = FibonacciIterator(n)\n",
        "\n",
        "for num in fib_iter:\n",
        "    print(num, end=\" \")\n"
      ],
      "metadata": {
        "id": "wLFC0HB7EDxP"
      },
      "execution_count": null,
      "outputs": []
    },
    {
      "cell_type": "markdown",
      "source": [
        "6.write a generator function in python that yields the power of 2 up to a given exponent."
      ],
      "metadata": {
        "id": "qMc-cU4tEFHy"
      }
    },
    {
      "cell_type": "code",
      "source": [
        "def power_of_two_generator(max_exponent):\n",
        "    for exponent in range(max_exponent + 1):\n",
        "        yield 2 ** exponent\n",
        "\n",
        "# Example usage\n",
        "max_exp = int(input(\"Enter the maximum exponent: \"))\n",
        "for power in power_of_two_generator(max_exp):\n",
        "    print(power, end=\" \")\n"
      ],
      "metadata": {
        "id": "I0liOUliEbuG"
      },
      "execution_count": null,
      "outputs": []
    },
    {
      "cell_type": "markdown",
      "source": [
        "7.Implement a generator functions that reads a file line by line and yields each line as a string."
      ],
      "metadata": {
        "id": "Ic_cmYQOEciY"
      }
    },
    {
      "cell_type": "code",
      "source": [
        "def file_line_reader(file_path):\n",
        "    try:\n",
        "        with open(file_path, 'r') as file:\n",
        "            for line in file:\n",
        "                yield line.strip()  # Strip newline characters for cleaner output\n",
        "    except FileNotFoundError:\n",
        "        print(f\"Error: File '{file_path}' not found.\")\n",
        "    except Exception as e:\n",
        "        print(f\"An error occurred: {e}\")\n",
        "\n",
        "# Example usage\n",
        "file_path = input(\"Enter the file path: \")\n",
        "for line in file_line_reader(file_path):\n",
        "    print(line)\n"
      ],
      "metadata": {
        "id": "QBs3uoknFBiY"
      },
      "execution_count": null,
      "outputs": []
    },
    {
      "cell_type": "markdown",
      "source": [
        "8.use a lambda function in python to sort a list of tuples based on the second elements of each tuples."
      ],
      "metadata": {
        "id": "ZxeL17tHFCeM"
      }
    },
    {
      "cell_type": "code",
      "source": [
        "# Sample list of tuples\n",
        "tuples_list = [(1, 3), (4, 1), (2, 2), (5, 0)]\n",
        "\n",
        "# Sorting using a lambda function\n",
        "sorted_list = sorted(tuples_list, key=lambda x: x[1])\n",
        "\n",
        "# Output the sorted list\n",
        "print(sorted_list)\n"
      ],
      "metadata": {
        "id": "gjfp98frFmmj"
      },
      "execution_count": null,
      "outputs": []
    },
    {
      "cell_type": "markdown",
      "source": [
        "9.write a python program that uses map()to convert a list of tempertures from celsius to fahrenheit."
      ],
      "metadata": {
        "id": "OQSpj_wHFn5B"
      }
    },
    {
      "cell_type": "code",
      "source": [
        "def celsius_to_fahrenheit(celsius):\n",
        "    return (celsius * 9/5) + 32\n",
        "\n",
        "# Sample list of temperatures in Celsius\n",
        "temps_celsius = [0, 20, 30, 37, 100]\n",
        "\n",
        "# Convert to Fahrenheit using map()\n",
        "temps_fahrenheit = list(map(celsius_to_fahrenheit, temps_celsius))\n",
        "\n",
        "# Output the converted temperatures\n",
        "print(\"Celsius:\", temps_celsius)\n",
        "print(\"Fahrenheit:\", temps_fahrenheit)\n"
      ],
      "metadata": {
        "id": "cfzOLRwxGKff"
      },
      "execution_count": null,
      "outputs": []
    },
    {
      "cell_type": "markdown",
      "source": [],
      "metadata": {
        "id": "8u5fC2TpHmu_"
      }
    }
  ]
}