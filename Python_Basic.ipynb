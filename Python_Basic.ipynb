{
  "nbformat": 4,
  "nbformat_minor": 0,
  "metadata": {
    "colab": {
      "provenance": []
    },
    "kernelspec": {
      "name": "python3",
      "display_name": "Python 3"
    },
    "language_info": {
      "name": "python"
    }
  },
  "cells": [
    {
      "cell_type": "markdown",
      "source": [
        "#PYTHON BASIC\n",
        "\n",
        "1.What is Python,and why is it popular?\n",
        "\n",
        "- Python is a high-level, interpreted programming language known for its simplicity and readability. It was created by Guido van Rossum and released in 1991. One of the key features that make Python popular is its clean, easy-to-understand syntax, which allows developers to write fewer lines of code compared to other languages.\n",
        "Some reasons for Python's popularity include:\n",
        "\n",
        "1.Readability: Python emphasizes code readability and simplicity. Its syntax is designed to be clean and easy to understand, making it a great choice for beginners.\n",
        "\n",
        "2.Versatility: Python is used in a variety of domains, including web development, data analysis.\n",
        "\n",
        "\n",
        "\n",
        "\n",
        "2.What is an interpreter in Python?\n",
        "\n",
        "- An interpreter in Python is a program that reads and executes Python code line by line. Unlike a compiler, which translates the entire code into machine language at once, an interpreter executes Python code directly without the need for a separate compilation step. This makes Python code more flexible and easier to debug, as you can test individual parts of the code quickly.\n",
        "The Python interpreter takes the code written in Python and converts it into bytecode, which is then executed by the Python runtime environment. You typically interact with the Python interpreter through the Python shell (REPL), or when you run a Python script from the command line or an IDE.\n",
        "\n",
        "In short, the interpreter allows you to run Python programs interactively and sequentially, making it easier to develop and test Python applications.\n",
        "\n",
        "\n",
        "\n",
        "\n",
        "3.What are predefined keywords in Python?\n",
        "\n",
        "- In Python, predefined keywords are reserved words that have a special meaning and cannot be used as identifiers (such as variable names, function names, etc.). These keywords define the syntax and structure of the Python language.\n",
        "Here is a list of the pre-defined keywords in Python (as of Python 3.x):\n",
        "\n",
        "1.False 2.None 3.rue 4.and 5.as 6.assert 7.break 8.class 9'continue 10.def 11.del 12.elif\n",
        "\n",
        "4.Can keywords be used as variable names?\n",
        "\n",
        "- In most programming languages, keywords cannot be used as variable names because they are reserved words that have special meaning within the language. For example, in languages like Python, Java, and C++, keywords such as if, else, while, return, class, and so on are part of the syntax and are used to define the structure of your code.\n",
        "Using keywords as variable names would lead to errors or unexpected behavior because the language would be confused about whether you're trying to use the keyword for its intended purpose or as a variable.\n",
        "\n",
        "For instance, in Python: if = 5 # SyntaxError: invalid syntax"
      ],
      "metadata": {
        "id": "a7ERO8fS_8NI"
      }
    },
    {
      "cell_type": "markdown",
      "source": [
        "5. What is mutability in Python?\n",
        "\n",
        "- Mutability refers to the ability of an object to change its state after it's been created. In other words, a mutable object can be modified, updated, or altered in some way.\n",
        "\n",
        "On the other hand, immutability means that an object cannot be changed once it's been created. Its state remains the same forever.\n",
        "\n",
        " Tuples are a type of data structure in Python (and other programming languages) that can store multiple values. Tuples are defined using parentheses `()` and elements are separated by commas.\n",
        "\n",
        "Here's the important part: tuples are immutable. Once a tuple is created, its contents cannot be modified. You can't add, remove, or change elements in a tuple.\n",
        "\n",
        "For example:\n",
        "\n",
        "my_tuple = (1, 2, 3)\n",
        "print(my_tuple)  # Output: (1, 2, 3)\n",
        "\n",
        "Try to modify the tuple\n",
        "my_tuple[0] = 10  # Raises a TypeError!\n",
        "```\n",
        "In contrast, lists are mutable, meaning you can modify their contents after creation.\n",
        "```\n",
        "my_list = [1, 2, 3]\n",
        "print(my_list)  # Output: [1, 2, 3]\n",
        "\n",
        "Modify the list\n",
        "my_list[0] = 10\n",
        "print(my_list)  # Output: [10, 2, 3]\n",
        "```\n",
        "So, to summarize: tuples are immutable, while lists are mutable."
      ],
      "metadata": {
        "id": "RnYzw0t9sH9Z"
      }
    },
    {
      "cell_type": "markdown",
      "source": [
        "6. Why are list mutable, but tuples are immutable?\n",
        "\n",
        "\n",
        "\n",
        "- Lists are mutable because they are designed to be dynamic and flexible. They are implemented as a collection of pointers to objects, which allows for efficient insertion, deletion, and modification of elements.\n",
        "\n",
        "On the other hand, tuples are immutable because they are designed to be lightweight and secure. They are implemented as a single block of memory, which makes them faster and more memory-efficient than lists. However, this also means that tuples cannot be changed once they are created.\n",
        "\n",
        "The immutability of tuples provides several benefits, such as:\n",
        "\n",
        "- Thread safety: Tuples can be safely shared between multiple threads without fear of one thread modifying the tuple and affecting other threads.\n",
        "- Security: Tuples can be used to represent sensitive data, such as passwords or cryptographic keys, without fear of the data being modified or tampered with.\n",
        "- Code clarity: The immutability of tuples makes it clear to other developers that the data is not intended to be changed.\n",
        "\n",
        "In summary, the mutability of lists and the immutability of tuples are design choices that reflect their intended use cases and provide benefits in terms of performance, security, and code clarity."
      ],
      "metadata": {
        "id": "ykb6syma_5xx"
      }
    },
    {
      "cell_type": "markdown",
      "source": [
        "7.what us the difference between \"==\" and \"is\" operators in python?\n",
        "\n",
        "\n",
        "- In Python, `==` and `is` are two different operators that are often confused with each other.\n",
        "\n",
        "Equality Operator (`==`)\n",
        "The `==` operator checks whether the values of two objects are equal. It calls the `__eq__()` method of the object, which compares the attributes and values of the objects.\n",
        "\n",
        "Identity Operator (`is`)\n",
        "The `is` operator checks whether two objects are the same instance, i.e., they have the same memory address. It does not compare the values or attributes of the objects.\n",
        "\n",
        "*Example*\n",
        "```\n",
        "a = [1, 2, 3]\n",
        "b = [1, 2, 3]\n",
        "c = a\n",
        "\n",
        "print(a == b)  # Output: True (values are equal)\n",
        "print(a is b)   # Output: False (not the same instance)\n",
        "print(a is c)   # Output: True (same instance)"
      ],
      "metadata": {
        "id": "_otQ1AQa99c4"
      }
    },
    {
      "cell_type": "markdown",
      "source": [
        "8. What are logical operators in Python?\n",
        "\n",
        "- In Python, logical operators are used to combine conditional statements and evaluate them as True or False. There are three main logical operators:\n",
        "\n",
        "1. *And (`and`)*: Returns True if both conditions are True.\n",
        "Example: `a > 5 and a < 10`\n",
        "\n",
        "2. *Or (`or`)*: Returns True if at least one condition is True.\n",
        "Example: `a > 5 or a < 10`\n",
        "\n",
        "3. *Not (`not`)*: Returns the opposite of the condition (i.e., True becomes False and vice versa).\n",
        "Example: `not a > 5`\n",
        "\n",
        "These operators are often used in combination with comparison operators (`==`, `!=`, `>`, `<`, `>=` , `<=`) to create more complex conditions.\n",
        "\n",
        "Here's an example:\n",
        "```\n",
        "age = 25\n",
        "if age > 18 and age < 30:\n",
        "    print(\"You're a young adult!\")\n",
        "```"
      ],
      "metadata": {
        "id": "9qxCOwGYCp4H"
      }
    },
    {
      "cell_type": "markdown",
      "source": [
        "9.What is type casting in Python?\n",
        "\n",
        "\n",
        "- Type casting in Python is the process of converting a variable from one data type to another. This is also known as type conversion.\n",
        "\n",
        "Python has two types of type casting:\n",
        "\n",
        "1. Implicit Type Casting: Python automatically converts the data type of a variable without the need for explicit casting. This occurs when you perform operations with variables of different data types.\n",
        "2. Explicit Type Casting: You can manually convert the data type of a variable using functions like `int()`, `float()`, `str()`, `bool()`, etc."
      ],
      "metadata": {
        "id": "cWWq9XGzC9Xb"
      }
    },
    {
      "cell_type": "markdown",
      "source": [
        "\n",
        "\n",
        "\n",
        "10.what is the difference between implicit and explicit type casting?\n",
        "\n",
        "\n",
        "- Implicit Type Casting\n",
        "1. Automatic conversion: Python automatically converts the data type of a variable without the need for explicit casting.\n",
        "2. Occurs during operations: Implicit casting happens when you perform operations with variables of different data types.\n",
        "3. No explicit function call: You don't need to call a specific function to perform the type conversion.\n",
        "4. Example: `a = 5; b = 3.5; result = a + b` (result will be a float)\n",
        "\n",
        "- Explicit Type Casting\n",
        "1. Manual conversion: You manually convert the data type of a variable using a specific function.\n",
        "2. Requires function call: You need to call a function like `int()`, `float()`, `str()`, etc. to perform the type conversion.\n",
        "3. Occurs when assigning a value: Explicit casting happens when you assign a value to a variable and want to change its data type.\n",
        "4. Example: `a = \"123\"; b = int(a)` (converts string to integer)\n",
        "\n",
        "\n",
        "\n",
        "\n"
      ],
      "metadata": {
        "id": "BX13pEYnDCtp"
      }
    },
    {
      "cell_type": "markdown",
      "source": [],
      "metadata": {
        "id": "CdAcBYT52aPf"
      }
    },
    {
      "cell_type": "markdown",
      "source": [
        "11.what is the purpose of conditional statement in python\n",
        "\n",
        "- Conditional statements in Python are essential for controlling the flow of your program. They allow you to execute specific blocks of code only if certain conditions are met. Here's a breakdown of their purpose and how they work:\n",
        "\n",
        "Core Function:\n",
        "\n",
        "At their heart, conditional statements enable your Python programs to make decisions. They evaluate whether a statement is true or false, and then execute different code paths based on that outcome. This is fundamental to creating programs that can respond to various inputs and situations\n",
        "\n",
        "\n"
      ],
      "metadata": {
        "id": "MairXhPa1qU0"
      }
    },
    {
      "cell_type": "markdown",
      "source": [
        "12.How does the elif statements work\n",
        "\n",
        "->The elif statement in Python is a crucial part of creating multi-way conditional logic.  It stands for \"else if\" and allows you to check multiple conditions in a sequence.  Here's how it works:\n",
        "\n",
        "1. The if Condition:\n",
        "\n",
        "The conditional chain always starts with an if statement.  This checks the first condition. If it's true, the code block associated with that if is executed, and the rest of the elif and else blocks are skipped.\n",
        "\n",
        "2. The elif Conditions:\n",
        "\n",
        "If the initial if condition is false, Python then checks the first elif condition.  If this condition is true, the code block associated with that elif is executed, and any remaining elif and the final else are skipped.\n",
        "\n",
        "You can have multiple elif statements. Python checks them in order, from top to bottom.  As soon as one elif condition is true, its code runs, and the rest are ignored.\n",
        "\n",
        "3. The else Clause (Optional):\n",
        "\n",
        "Finally, you can have an optional else clause at the end of the chain.  The else block is executed only if none of the preceding if or elif conditions were true.\n",
        "\n",
        "score = 75\n",
        "\n",
        "if score >= 90:\n",
        "  grade = \"A\"  # Not executed because 75 >= 90 is false\n",
        "elif score >= 80:\n",
        "  grade = \"B\"  # Not executed because 75 >= 80 is false\n",
        "elif score >= 70:\n",
        "  grade = \"C\"  # This condition is true!  grade is assigned \"C\"\n",
        "else:\n",
        "  grade = \"F\"  # Not executed because the previous elif was true\n",
        "\n",
        "print(grade)  # Output: C"
      ],
      "metadata": {
        "id": "iZYXUUhk1dOS"
      }
    },
    {
      "cell_type": "markdown",
      "source": [
        "13.what is the difference between for and while loop\n",
        "\n",
        "- Both for and while loops are used for repetition in Python, but they have some key differences that make them suitable for different situations:\n",
        "\n",
        "1. Iteration Control:\n",
        "\n",
        "for loop: Primarily designed for iterating over a sequence (like a list, tuple, string, or the range function) or other iterable objects. It automatically handles the iteration process, moving through each element in the sequence one by one. The number of iterations is often known beforehand.\n",
        "while loop: More general-purpose. It repeats a block of code as long as a certain condition remains true. The number of iterations doesn't need to be known in advance; it depends on when the condition becomes false.\n",
        "2. Structure and Readability:\n",
        "\n",
        "for loop: Often considered more readable for situations where you're working with a sequence. The loop variable and the sequence are clearly defined in the loop's header.\n",
        "while loop: Can be more flexible for complex scenarios, but it requires careful management of the loop condition and any variables involved. It's easier to accidentally create an infinite loop with a while loop if you're not careful.\n",
        "3. Use Cases:\n",
        "\n",
        "for loop: Best for:\n",
        "Iterating through a list of items.\n",
        "Processing each character in a string.\n",
        "Repeating a block of code a specific number of times (using range).\n",
        "while loop: Best for:\n",
        "Repeating a task until a user provides specific input.\n",
        "Continuing a process until a certain condition is met (e.g., a file is finished processing).\n",
        "Situations where the loop's termination depends on a dynamic condition that might change during execution.\n",
        "Example:\n",
        "\n",
        "Python\n",
        "\n",
        "# for loop: iterating through a list of fruits\n",
        "fruits = [\"apple\", \"banana\", \"cherry\"]\n",
        "for fruit in fruits:\n",
        "  print(fruit)\n",
        "\n",
        "# while loop: repeating until a condition is met\n",
        "count = 0\n",
        "while count < 5:\n",
        "  print(count)\n",
        "  count += 1\n",
        "In summary:\n",
        "\n",
        "Use a for loop when you know how many times you need to iterate or when you're working with a sequence.\n",
        "Use a while loop when the number of iterations is unknown or when the loop's termination depends on a condition that might change during execution.\n",
        "Choosing the right loop type can make your code more efficient, readable, and less prone to errors."
      ],
      "metadata": {
        "id": "F1vqIjnv3JGE"
      }
    },
    {
      "cell_type": "markdown",
      "source": [
        "14.Describe the scenario where a while loop is more suitable than a for loop\n",
        "\n",
        "- A while loop is generally more suitable than a for loop in situations where the number of iterations is not known in advance or when the loop's termination depends on a dynamic condition that might change during the loop's execution.  Here are some common scenarios:\n",
        "\n",
        "1.User Input: When you need to repeatedly ask the user for input until they provide a specific value or meet certain criteria, a while loop is ideal.  You don't know how many times the user might need to be prompted.\n",
        "while True:\n",
        "\n",
        "    user_input = input(\"Enter a number (or 'q' to quit): \")\n",
        "    if user_input.lower() == 'q':\n",
        "        break  # Exit the loop if the user enters 'q'\n",
        "    try:\n",
        "        number = int(user_input)\n",
        "        # Process the number\n",
        "        print(\"You entered:\", number)\n",
        "    except ValueError:\n",
        "        print(\"Invalid input. Please enter a number or 'q'.\")\n",
        "\n",
        "       2. Event-Driven Loops:  In many programs (especially those involving graphical user interfaces or network programming), you need to keep running a loop that checks for events or changes in state.  The loop continues until a specific event occurs (like the user closing a window or a network connection being closed).\n",
        "\n",
        "       running = True\n",
        "while running:\n",
        "    # Check for events (e.g., user clicks, network data)\n",
        "    event = get_next_event()\n",
        "    if event == \"quit\":\n",
        "        running = False\n",
        "    else:\n",
        "        # Process the event\n",
        "        process_event(event)\n",
        "\n",
        "        3.Conditions Based on Calculations or External Data:  Sometimes, the loop termination depends on the result of a calculation or data fetched from an external source (like a file or a database).  You might not know beforehand when the condition will be met.\n",
        "\n",
        "Python\n",
        "\n",
        "data_available = True  # Initially assume data is available\n",
        "while data_available:\n",
        "    data = fetch_data()\n",
        "    if data is None:  # No more data\n",
        "        data_available = False\n",
        "    else:\n",
        "        # Process the data\n",
        "        process_data(data)\n",
        "\n",
        "        4.Simulations or Iterative Processes:  In simulations or numerical algorithms, you might need to repeat a calculation until a certain level of accuracy is reached or a convergence criterion is met.  The number of iterations is usually not known in advance.\n",
        "\n",
        "Python\n",
        "\n",
        "tolerance = 0.0001\n",
        "difference = float('inf') # Initialize to a large value\n",
        "\n",
        "x = 1.0 # Initial guess\n",
        "while abs(difference) > tolerance:\n",
        "    next_x = calculate_next_value(x)\n",
        "    difference = next_x - x\n",
        "    x = next_x\n",
        "\n",
        "print(\"Converged value:\", x)\n",
        "In all these cases, a while loop is more appropriate because the loop's continuation depends on a condition that is evaluated during the loop's execution, and the number of iterations is not predetermined.  A for loop, on the other hand, is better suited for situations where you know exactly how many times you need to iterate.\n",
        "\n"
      ],
      "metadata": {
        "id": "eEwDqwPs3qyS"
      }
    },
    {
      "cell_type": "markdown",
      "source": [
        "#Practical Questions\n",
        "\n"
      ],
      "metadata": {
        "id": "cLUuEVek5fmS"
      }
    },
    {
      "cell_type": "markdown",
      "source": [
        "1.write a python program to print\"Hello,World!\""
      ],
      "metadata": {
        "id": "mN37zM0f5sxO"
      }
    },
    {
      "cell_type": "code",
      "source": [
        "print(\"Hello, World!\")\n",
        "\n",
        "\n",
        "\n",
        "\n"
      ],
      "metadata": {
        "id": "yURi-4ka6FZo"
      },
      "execution_count": null,
      "outputs": []
    },
    {
      "cell_type": "markdown",
      "source": [
        "2.write a Python Program that display your name and age."
      ],
      "metadata": {
        "id": "UBfmqWEeuk9_"
      }
    },
    {
      "cell_type": "code",
      "source": [
        "# Define your name and age\n",
        "name = \"sunny singh\"  # Replace with your name\n",
        "age = 30           # Replace with your age\n",
        "\n",
        "# Display the name and age\n",
        "print(\"Name:\", name)\n",
        "print(\"Age:\", age)\n"
      ],
      "metadata": {
        "id": "YYKXvOrxvco4"
      },
      "execution_count": null,
      "outputs": []
    },
    {
      "cell_type": "markdown",
      "source": [
        "3.write a code to print all the pre-defined keywords in python using  the keybord library."
      ],
      "metadata": {
        "id": "vTxMowg4vmMD"
      }
    },
    {
      "cell_type": "code",
      "source": [
        "import keyword\n",
        "import keyboard\n",
        "\n",
        "# Wait for a key press before proceeding\n",
        "print(\"Press any key to display Python keywords...\")\n",
        "keyboard.read_event()\n",
        "\n",
        "# Get the list of Python keywords\n",
        "keywords = keyword.kwlist\n",
        "\n",
        "# Display the Python keywords\n",
        "print(\"\\nPython Keywords:\")\n",
        "for kw in keywords:\n",
        "    print(kw)\n"
      ],
      "metadata": {
        "id": "Cn0YqsaswS40"
      },
      "execution_count": null,
      "outputs": []
    },
    {
      "cell_type": "markdown",
      "source": [
        "4.write a programe that checks if a given word is a python keywords."
      ],
      "metadata": {
        "id": "2Vr-cBi3wWgz"
      }
    },
    {
      "cell_type": "code",
      "source": [
        "import keyword\n",
        "\n",
        "# Function to check if a word is a Python keyword\n",
        "def check_keyword(word):\n",
        "    if keyword.iskeyword(word):\n",
        "        print(f\"'{word}' is a Python keyword.\")\n",
        "    else:\n",
        "        print(f\"'{word}' is not a Python keyword.\")\n",
        "\n",
        "# Input from the user\n",
        "word = input(\"Enter a word to check if it's a Python keyword: \")\n",
        "\n",
        "# Check if the word is a Python keyword\n",
        "check_keyword(word)\n"
      ],
      "metadata": {
        "id": "x9V5wM21ufp1"
      },
      "execution_count": null,
      "outputs": []
    },
    {
      "cell_type": "markdown",
      "source": [
        "5.create a list and tuple in python,and demonstrate how attempting to change an element works differently for each."
      ],
      "metadata": {
        "id": "7LG5Sh7lw_Pt"
      }
    },
    {
      "cell_type": "code",
      "source": [
        "# Creating a list\n",
        "my_list = [10, 20, 30, 40]\n",
        "\n",
        "# Creating a tuple\n",
        "my_tuple = (10, 20, 30, 40)\n",
        "\n",
        "# Attempt to change an element in the list\n",
        "print(\"Original List:\", my_list)\n",
        "my_list[1] = 99  # Changing an element in the list\n",
        "print(\"Updated List:\", my_list)\n",
        "\n",
        "# Attempt to change an element in the tuple\n",
        "print(\"\\nOriginal Tuple:\", my_tuple)\n",
        "\n",
        "try:\n",
        "    my_tuple[1] = 99  # Trying to change an element in the tuple\n",
        "except TypeError as e:\n",
        "    print(\"Error while updating Tuple:\", e)\n"
      ],
      "metadata": {
        "id": "IVkn31spxxp7"
      },
      "execution_count": null,
      "outputs": []
    },
    {
      "cell_type": "code",
      "source": [],
      "metadata": {
        "id": "g7_Sm5M4x5II"
      },
      "execution_count": null,
      "outputs": []
    },
    {
      "cell_type": "markdown",
      "source": [
        "output"
      ],
      "metadata": {
        "id": "GzOYuk-Vx-Tm"
      }
    },
    {
      "cell_type": "code",
      "source": [
        "Original List: [10, 20, 30, 40]\n",
        "Updated List: [10, 99, 30, 40]\n",
        "\n",
        "Original Tuple: (10, 20, 30, 40)\n",
        "Error while updating Tuple: 'tuple' object does not support item assignment\n"
      ],
      "metadata": {
        "id": "ya7EMI0LyCA0"
      },
      "execution_count": null,
      "outputs": []
    },
    {
      "cell_type": "markdown",
      "source": [
        "6.write a fuction to demonstrate the behaviour of mutable and immutable arguments."
      ],
      "metadata": {
        "id": "LwsFUcw6yHnE"
      }
    },
    {
      "cell_type": "code",
      "source": [
        "# Function to demonstrate mutable and immutable arguments\n",
        "def demonstrate_mutable_immutable(mutable_arg, immutable_arg):\n",
        "    print(\"Before changes:\")\n",
        "    print(f\"Mutable argument: {mutable_arg}\")\n",
        "    print(f\"Immutable argument: {immutable_arg}\")\n",
        "\n",
        "    # Changing the mutable argument (list)\n",
        "    mutable_arg.append(100)\n",
        "    print(\"\\nAfter modifying mutable argument:\")\n",
        "    print(f\"Mutable argument: {mutable_arg}\")\n",
        "\n",
        "    # Trying to change the immutable argument (integer)\n",
        "    immutable_arg += 50\n",
        "    print(\"\\nAfter modifying immutable argument:\")\n",
        "    print(f\"Immutable argument: {immutable_arg}\")\n",
        "\n",
        "# Test with mutable (list) and immutable (integer) arguments\n",
        "mutable_list = [1, 2, 3]\n",
        "immutable_int = 10\n",
        "\n",
        "demonstrate_mutable_immutable(mutable_list, immutable_int)\n",
        "\n",
        "# Display the values after the function call\n",
        "print(\"\\nOutside function after changes:\")\n",
        "print(f\"Mutable argument outside function: {mutable_list}\")\n",
        "print(f\"Immutable argument outside function: {immutable_int}\")\n"
      ],
      "metadata": {
        "id": "f3SjXpEDy0CE"
      },
      "execution_count": null,
      "outputs": []
    },
    {
      "cell_type": "markdown",
      "source": [
        "7.write a programe to demonstrate the use of logical operaters."
      ],
      "metadata": {
        "id": "WgYdkbiUy4eO"
      }
    },
    {
      "cell_type": "code",
      "source": [
        "# Function to demonstrate logical operators\n",
        "def demonstrate_logical_operators(a, b):\n",
        "    print(f\"Values: a = {a}, b = {b}\")\n",
        "\n",
        "    # Logical AND\n",
        "    print(f\"a AND b: {a and b}\")\n",
        "\n",
        "    # Logical OR\n",
        "    print(f\"a OR b: {a or b}\")\n",
        "\n",
        "    # Logical NOT (for both a and b)\n",
        "    print(f\"NOT a: {not a}\")\n",
        "    print(f\"NOT b: {not b}\")\n",
        "\n",
        "# Test the logical operators\n",
        "a = True\n",
        "b = False\n",
        "\n",
        "demonstrate_logical_operators(a, b)\n",
        "\n",
        "# You can also try with different values\n",
        "print(\"\\nAnother test:\")\n",
        "a = False\n",
        "b = False\n",
        "demonstrate_logical_operators(a, b)\n"
      ],
      "metadata": {
        "id": "3BaSIcbS0Gcu"
      },
      "execution_count": null,
      "outputs": []
    },
    {
      "cell_type": "markdown",
      "source": [
        "8. write a python programe to convert user input from string to integer,float,and Boolean types."
      ],
      "metadata": {
        "id": "WaSzwg0R0mlk"
      }
    },
    {
      "cell_type": "code",
      "source": [
        "# Function to convert user input to integer, float, and Boolean types\n",
        "def convert_input():\n",
        "    # Taking user input as a string\n",
        "    user_input = input(\"Enter a value: \")\n",
        "\n",
        "    # Convert to integer\n",
        "    try:\n",
        "        int_value = int(user_input)\n",
        "        print(f\"Integer: {int_value}\")\n",
        "    except ValueError:\n",
        "        print(\"Cannot convert to integer\")\n",
        "\n",
        "    # Convert to float\n",
        "    try:\n",
        "        float_value = float(user_input)\n",
        "        print(f\"Float: {float_value}\")\n",
        "    except ValueError:\n",
        "        print(\"Cannot convert to float\")\n",
        "\n",
        "    # Convert to boolean\n",
        "    if user_input.lower() in ['true', '1']:\n",
        "        bool_value = True\n",
        "    elif user_input.lower() in ['false', '0']:\n",
        "        bool_value = False\n",
        "    else:\n",
        "        bool_value = False  # Default to False if input is not 'True' or 'False'\n",
        "\n",
        "    print(f\"Boolean: {bool_value}\")\n",
        "\n",
        "# Call the function\n",
        "convert_input()\n"
      ],
      "metadata": {
        "id": "WglSuIDS1cK9"
      },
      "execution_count": null,
      "outputs": []
    },
    {
      "cell_type": "markdown",
      "source": [
        "9.write code to  demonstrate type casting with list elements."
      ],
      "metadata": {
        "id": "eDDSjARq1fFJ"
      }
    },
    {
      "cell_type": "code",
      "source": [
        "# Function to demonstrate type casting with list elements\n",
        "def type_casting_demo():\n",
        "    # Original list with different types of elements\n",
        "    original_list = ['10', '15.5', 'True', '100', 'False', '25.75']\n",
        "\n",
        "    print(\"Original List:\", original_list)\n",
        "\n",
        "    # Convert all elements to integers (if possible)\n",
        "    int_list = []\n",
        "    for item in original_list:\n",
        "        try:\n",
        "            int_list.append(int(float(item)))  # First cast to float to handle decimal numbers\n",
        "        except ValueError:\n",
        "            int_list.append(None)  # If conversion fails, append None\n",
        "\n",
        "    print(\"\\nConverted to Integers:\", int_list)\n",
        "\n",
        "    # Convert all elements to floats (if possible)\n",
        "    float_list = []\n",
        "    for item in original_list:\n",
        "        try:\n",
        "            float_list.append(float(item))\n",
        "        except ValueError:\n",
        "            float_list.append(None)  # If conversion fails, append None\n",
        "\n",
        "    print(\"\\nConverted to Floats:\", float_list)\n",
        "\n",
        "    # Convert all elements to Booleans\n",
        "    bool_list = []\n",
        "    for item in original_list:\n",
        "        if item.lower() in ['true', '1']:\n",
        "            bool_list.append(True)\n",
        "        elif item.lower() in ['false', '0']:\n",
        "            bool_list.append(False)\n",
        "        else:\n",
        "            bool_list.append(False)  # Default to False for any other string\n",
        "\n",
        "    print(\"\\nConverted to Booleans:\", bool_list)\n",
        "\n",
        "# Call the function\n",
        "type_casting_demo()\n"
      ],
      "metadata": {
        "id": "gtDpS3GT2HAz"
      },
      "execution_count": null,
      "outputs": []
    },
    {
      "cell_type": "markdown",
      "source": [
        "10.0 write a programe that checks if a number is positive,negative,or zero."
      ],
      "metadata": {
        "id": "BYNR9X8M2Liw"
      }
    },
    {
      "cell_type": "code",
      "source": [
        "# Function to check if the number is positive, negative, or zero\n",
        "def check_number():\n",
        "    # Take input from the user\n",
        "    num = float(input(\"Enter a number: \"))\n",
        "\n",
        "    # Check if the number is positive, negative, or zero\n",
        "    if num > 0:\n",
        "        print(f\"{num} is Positive.\")\n",
        "    elif num < 0:\n",
        "        print(f\"{num} is Negative.\")\n",
        "    else:\n",
        "        print(f\"{num} is Zero.\")\n",
        "\n",
        "# Call the function\n",
        "check_number()\n"
      ],
      "metadata": {
        "id": "UEiopcaP2zWZ"
      },
      "execution_count": null,
      "outputs": []
    },
    {
      "cell_type": "markdown",
      "source": [
        "11.write a loop to print numbers from 1to 10."
      ],
      "metadata": {
        "id": "m9iOWSVw21DK"
      }
    },
    {
      "cell_type": "code",
      "source": [
        "# Loop to print numbers from 1 to 10\n",
        "for number in range(1, 11):\n",
        "    print(number)\n"
      ],
      "metadata": {
        "id": "phvCRHM23r-u"
      },
      "execution_count": null,
      "outputs": []
    },
    {
      "cell_type": "markdown",
      "source": [
        "12.write a python programe to find the sum of all even number between 1 to 50."
      ],
      "metadata": {
        "id": "tidRu0854OqG"
      }
    },
    {
      "cell_type": "code",
      "source": [
        "# Initialize the sum\n",
        "sum_even = 0\n",
        "\n",
        "# Loop through numbers from 1 to 50\n",
        "for number in range(1, 51):\n",
        "    if number % 2 == 0:  # Check if the number is even\n",
        "        sum_even += number\n",
        "\n",
        "# Output the sum of even numbers\n",
        "print(\"The sum of all even numbers between 1 and 50 is:\", sum_even)\n"
      ],
      "metadata": {
        "id": "HdZsFmly5HUl"
      },
      "execution_count": null,
      "outputs": []
    },
    {
      "cell_type": "code",
      "source": [],
      "metadata": {
        "id": "4IRelSeB7xmW"
      },
      "execution_count": null,
      "outputs": []
    },
    {
      "cell_type": "markdown",
      "source": [
        "13.write a programe to reverse a string using the while loop."
      ],
      "metadata": {
        "id": "TFvsy7-j5I7W"
      }
    },
    {
      "cell_type": "code",
      "source": [
        "# Function to reverse a string using a while loop\n",
        "def reverse_string(input_string):\n",
        "    reversed_string = \"\"  # Start with an empty string\n",
        "\n",
        "    # Initialize index to the last character of the string\n",
        "    index = len(input_string) - 1\n",
        "\n",
        "    # Use a while loop to iterate backwards through the string\n",
        "    while index >= 0:\n",
        "        reversed_string += input_string[index]\n",
        "        index -= 1  # Move to the previous character\n",
        "\n",
        "    return reversed_string\n",
        "\n",
        "# Input string from the user\n",
        "user_input = input(\"Enter a string to reverse: \")\n",
        "\n",
        "# Call the function and display the reversed string\n",
        "reversed_str = reverse_string(user_input)\n",
        "print(\"Reversed string:\", reversed_str)\n"
      ],
      "metadata": {
        "id": "zM2kUOiO5raN"
      },
      "execution_count": null,
      "outputs": []
    },
    {
      "cell_type": "markdown",
      "source": [
        "14.write a python program to calculate fractional of a number provided by the user using a while loop."
      ],
      "metadata": {
        "id": "IG1WMBfH5sq3"
      }
    },
    {
      "cell_type": "code",
      "source": [
        "# Function to calculate the fractional part of a number\n",
        "def calculate_fractional_part():\n",
        "    while True:\n",
        "        try:\n",
        "            # Take input from the user\n",
        "            number = float(input(\"Enter a number to find its fractional part: \"))\n",
        "\n",
        "            # Calculate the integer part and fractional part\n",
        "            integer_part = int(number)  # Get the integer part by converting to int\n",
        "            fractional_part = number - integer_part  # Subtract the integer part to get fractional part\n",
        "\n",
        "            print(f\"The fractional part of {number} is: {fractional_part}\")\n",
        "            break  # Exit the loop after valid input\n",
        "\n",
        "        except ValueError:\n",
        "            print(\"Invalid input! Please enter a valid number.\")\n",
        "\n",
        "# Call the function\n",
        "calculate_fractional_part()\n"
      ],
      "metadata": {
        "id": "_NwqjfDu6SD2"
      },
      "execution_count": null,
      "outputs": []
    }
  ]
}