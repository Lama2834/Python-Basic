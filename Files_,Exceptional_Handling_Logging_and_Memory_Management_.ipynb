{
  "nbformat": 4,
  "nbformat_minor": 0,
  "metadata": {
    "colab": {
      "provenance": []
    },
    "kernelspec": {
      "name": "python3",
      "display_name": "Python 3"
    },
    "language_info": {
      "name": "python"
    }
  },
  "cells": [
    {
      "cell_type": "code",
      "execution_count": null,
      "metadata": {
        "id": "VVWaeUPmvs3B"
      },
      "outputs": [],
      "source": []
    },
    {
      "cell_type": "markdown",
      "source": [],
      "metadata": {
        "id": "MEU5X-GO-4wF"
      }
    },
    {
      "cell_type": "markdown",
      "source": [],
      "metadata": {
        "id": "OBIsBFgAwGV7"
      }
    },
    {
      "cell_type": "markdown",
      "source": [
        "#THEORY QUESTIONS"
      ],
      "metadata": {
        "id": "WZNkhlKkwGbm"
      }
    },
    {
      "cell_type": "markdown",
      "source": [
        "1. What is the difference between interpreted and compiled languages?\n",
        "\n",
        "1.Execution Method\n",
        "\n",
        "- Interpreted: Executes code line-by-line at runtime.\n",
        "\n",
        "- Compiled: Translates entire code into machine language before execution.\n",
        "\n",
        "2.Speed\n",
        "\n",
        "- Interpreted: Slower because each line is translated on the fly.\n",
        "\n",
        "- Compiled: Faster since the entire code is precompiled.\n",
        "\n",
        "3.Error Handling\n",
        "\n",
        "- Interpreted: Stops at the first error, making debugging easier.\n",
        "\n",
        "- Compiled: Detects all errors at compile time, before execution.\n",
        "\n",
        "4.Platform Dependency\n",
        "\n",
        "- Interpreted: More portable (can run on different platforms without recompilation).\n",
        "\n",
        "- Compiled: May need recompilation for different platforms.\n",
        "\n",
        "5.Usage\n",
        "\n",
        "- Interpreted: Suitable for scripting, web development, and rapid prototyping.\n",
        "\n",
        "- Compiled: Used for performance-critical applications like system programming.\n",
        "\n",
        "6.Examples\n",
        "\n",
        "- Interpreted: Python, JavaScript, Ruby, PHP.\n",
        "- Compiled: C, C++, Rust, Go.\n"
      ],
      "metadata": {
        "id": "Lcc3b-7rwKhs"
      }
    },
    {
      "cell_type": "markdown",
      "source": [
        "2. What is exception handling in Python?\n",
        "\n",
        "- Exception handling in Python is a mechanism that allows a program to handle runtime errors and continue execution instead of crashing. It is done using try-except blocks."
      ],
      "metadata": {
        "id": "mFr719sgAdPq"
      }
    },
    {
      "cell_type": "markdown",
      "source": [
        "3. What is the purpose of the finally block in exception handling?\n",
        "\n",
        "- The finally block in Python is used to execute code regardless of whether an exception occurs or not. It is typically used for cleanup operations, such as closing files, releasing resources, or disconnecting from a database."
      ],
      "metadata": {
        "id": "fcY32Z9UApBe"
      }
    },
    {
      "cell_type": "markdown",
      "source": [
        "4.What is logging in Python?\n",
        "\n",
        "- Logging in Python is a built-in module that allows developers to track events and errors in a program. It is useful for debugging, monitoring, and maintaining applications without relying on print() statements.\n",
        "\n"
      ],
      "metadata": {
        "id": "W74dzb6iA1dg"
      }
    },
    {
      "cell_type": "markdown",
      "source": [],
      "metadata": {
        "id": "A5jinpYxBK7s"
      }
    },
    {
      "cell_type": "markdown",
      "source": [
        "5.What is the significance of the __del__ method in Python?\n",
        "\n",
        "- The __del__ method in Python is called when an object is about to be destroyed, allowing cleanup operations like closing files or releasing resources. It is known as the destructor method."
      ],
      "metadata": {
        "id": "bqV2nTNPBLBb"
      }
    },
    {
      "cell_type": "markdown",
      "source": [
        "6. What is the difference between import and from ... import in Python?\n",
        "\n",
        "- Both import and from ... import are used to include external modules in Python, but they work differently.\n",
        "\n"
      ],
      "metadata": {
        "id": "wM4hUo2vBW46"
      }
    },
    {
      "cell_type": "markdown",
      "source": [
        "7.How can you handle multiple exceptions in Python?\n",
        "- In Python, you can handle multiple exceptions using multiple except blocks, a single except block with a tuple, or generic exception handling.\n",
        "\n"
      ],
      "metadata": {
        "id": "JzDPx3POCVv-"
      }
    },
    {
      "cell_type": "markdown",
      "source": [
        "8.What is the purpose of the with statement when handling files in Python?\n",
        "\n",
        "- The with statement in Python is used for automatic resource management, particularly when working with files. It ensures that the file is properly closed after its operations, even if an error occurs.\n",
        "\n"
      ],
      "metadata": {
        "id": "HwbomMosCmvK"
      }
    },
    {
      "cell_type": "markdown",
      "source": [
        "9.What is the difference between multithreading and multiprocessing?\n",
        "\n",
        "1. Definition:\n",
        "\n",
        "- Multithreading: Running multiple threads within a single process.\n",
        "\n",
        "- Multiprocessing: Running multiple processes, each with its own memory space.\n",
        "\n",
        "2.Execution Model:\n",
        "\n",
        "- Multithreading: Threads share the same memory space.\n",
        "\n",
        "- Multiprocessing: Each process runs in its own memory space.\n",
        "\n",
        "3.Concurrency vs Parallelism:\n",
        "\n",
        "- Multithreading: Achieves concurrency (tasks appear to run simultaneously).\n",
        "\n",
        "- Multiprocessing: Achieves true parallelism (tasks run simultaneously on multiple CPUs)."
      ],
      "metadata": {
        "id": "uziYvMmBC0Cg"
      }
    },
    {
      "cell_type": "markdown",
      "source": [
        "10.What are the advantages of using logging in a program?\n",
        "\n",
        "- 1. Better Debugging & Troubleshooting\n",
        "- Helps track errors and issues without using print() statements.\n",
        "\n",
        "2.Provides Different Logging Levels\n",
        "\n",
        "- Allows filtering messages by severity (DEBUG, INFO, WARNING, ERROR, CRITICAL).\n",
        "\n",
        "3. Stores Logs for Future Analysis\n",
        "\n",
        "- Logs can be saved to a file for later review and debugging."
      ],
      "metadata": {
        "id": "vKyNAiimD8cL"
      }
    },
    {
      "cell_type": "markdown",
      "source": [
        "11.What is memory management in Python?\n",
        "\n",
        "- Memory management in Python is the process of allocating, managing, and deallocating memory dynamically to ensure efficient program execution."
      ],
      "metadata": {
        "id": "guT0K4P2EwHz"
      }
    },
    {
      "cell_type": "markdown",
      "source": [
        "12.What are the basic steps involved in exception handling in Python?\n",
        "\n",
        "- 1. Use try Block to Wrap Risky Code\n",
        "\n",
        "- Place the code that might raise an exception inside a try block.\n",
        "\n",
        "2.Catch Exceptions with except Block\n",
        "\n",
        "- Handle specific or multiple exceptions in except blocks.\n",
        "\n",
        "3.Use a Generic except Block (Optional, but Risky)\n",
        "\n",
        "- Catches any exception, useful for logging but should be used carefully."
      ],
      "metadata": {
        "id": "wIWj66gFFDHH"
      }
    },
    {
      "cell_type": "markdown",
      "source": [
        "13.Why is memory management important in Python?\n",
        "\n",
        "- Memory management in Python is crucial for efficient performance, resource optimization, and preventing memory leaks\n",
        "\n",
        "1.Prevents Memory Leaks\n",
        "\n",
        "- Unused objects consume memory and slow down the system.\n",
        "\n",
        "- Python’s garbage collector (GC) removes unused objects to free memory.\n",
        "\n",
        "2.Optimizes Performance\n",
        "\n",
        "- Efficient memory management reduces overhead and speeds up execution.\n",
        "\n",
        "- Python reuses objects (e.g., small integers, interned strings) to save memory.\n"
      ],
      "metadata": {
        "id": "Co0kspp3FqlM"
      }
    },
    {
      "cell_type": "markdown",
      "source": [
        "14.What is the role of try and except in exception handling?\n",
        "\n",
        "- In Python, try and except are used to handle runtime errors (exceptions) gracefully, preventing program crashes.\n",
        "\n",
        "1. try Block – Detects Errors\n",
        "\n",
        "-  The try block contains code that might raise an exception.\n",
        "\n",
        "-  If an error occurs, Python stops execution inside try and jumps to except.\n",
        "\n",
        "2. except Block – Handles Errors\n",
        "\n",
        "- The except block catches and processes the exception.\n",
        "\n",
        "-  Prevents program crashes by handling errors properly."
      ],
      "metadata": {
        "id": "Hp1XqAbnHBj4"
      }
    },
    {
      "cell_type": "markdown",
      "source": [
        "15.How does Python's garbage collection system work?\n",
        "\n",
        "- Python’s garbage collection (GC) system automatically manages memory by removing unused objects to free up space and improve performance. It works using two main techniques:\n",
        "\n",
        "1.Reference Counting (Primary Method)\n",
        "\n",
        "-  Each object in Python has a reference count (number of variables pointing to it).\n",
        "\n",
        "-  When the reference count drops to zero, the object is automatically deleted.\n",
        "\n",
        "\n",
        "2.Cyclic Garbage Collection (Handles Circular References)\n",
        "\n",
        "-  Sometimes objects reference each other (circular references).\n",
        "\n",
        "-  Python’s cyclic garbage collector detects and removes such objects."
      ],
      "metadata": {
        "id": "TqwsRqUtHqpj"
      }
    },
    {
      "cell_type": "markdown",
      "source": [
        "  16.What is the purpose of the else block in exception handling?\n",
        "\n",
        "  - In Python, the else block in exception handling is executed only if no exception occurs inside the try block. It helps separate error-prone code from the successful execution logic."
      ],
      "metadata": {
        "id": "ZvZv0mZjIKcZ"
      }
    },
    {
      "cell_type": "markdown",
      "source": [
        "17.What are the common logging levels in Python?\n",
        "\n",
        "- Python's logging module provides different logging levels to classify the severity of messages. These levels help developers filter logs based on importance."
      ],
      "metadata": {
        "id": "2baFjmSZIZ_u"
      }
    },
    {
      "cell_type": "markdown",
      "source": [
        "19.What is the importance of closing a file in Python?\n",
        "\n",
        "- Closing a file in Python using the .close() method or the with statement is crucial for efficient resource management.\n",
        "\n",
        " Ensures Data is Written Properly\n",
        "\n",
        "-  When writing to a file, data is stored in a buffer before being saved.\n",
        "\n",
        "-  Closing the file flushes the buffer, ensuring all data is written correctly.\n",
        "\n",
        "\n",
        "\n",
        "-"
      ],
      "metadata": {
        "id": "fnxBbHmCKA2P"
      }
    },
    {
      "cell_type": "markdown",
      "source": [
        "20.What is the difference between file.read() and file.readline() in Python?\n",
        "\n",
        "- Both file.read() and file.readline() are used to read data from a file, but they work differently.\n",
        "\n",
        "1.file.read(size) – Reads the Entire File or a Specified Number of Characters\n",
        "\n",
        "-  Reads the entire file (if no argument is given).\n",
        "\n",
        "-  If a number (size) is provided, it reads up to size characters.\n",
        "\n",
        "-  Suitable for small files as it loads everything into memory.\n",
        "\n",
        "2.file.readline() – Reads a Single Line at a Time\n",
        "\n",
        "- Reads only one line from the file at a time.\n",
        "\n",
        "-  Includes the newline character (\\n) at the end.\n",
        "\n",
        "-  Useful for reading large files line by line without using too much"
      ],
      "metadata": {
        "id": "nXurrm2KLGon"
      }
    },
    {
      "cell_type": "markdown",
      "source": [
        "21.What is the logging module in Python used for?\n",
        "\n",
        "- The logging module in Python is used for tracking events, debugging, and monitoring program execution by recording messages at different severity levels. It helps developers analyze program behavior and identify issues efficiently.\n",
        "\n"
      ],
      "metadata": {
        "id": "wZa-G6zVL70u"
      }
    },
    {
      "cell_type": "markdown",
      "source": [
        "22.What is the os module in Python used for in file handling?\n",
        "\n",
        "- The os module in Python provides functions to interact with the operating system, including file and directory operations like creating, deleting, renaming, and navigating files/folders."
      ],
      "metadata": {
        "id": "nFqkCRwOMHMu"
      }
    },
    {
      "cell_type": "markdown",
      "source": [
        "23.What are the challenges associated with memory management in Python?\n",
        "\n",
        "- Python has automatic memory management with garbage collection, but there are still challenges developers face when handling memory efficiently.\n",
        "\n",
        "1. Memory Leaks\n",
        "\n",
        "- Unreferenced objects still in memory due to lingering references.\n",
        "\n",
        "-  Example: Objects stored in global variables or circular references (e.g., mutual references between objects)\n",
        "\n",
        "2.High Memory Consumption\n",
        "\n",
        "- Python objects use more memory than lower-level languages like C.\n",
        "\n",
        "-  Dynamic typing and object overhead increase memory usage."
      ],
      "metadata": {
        "id": "zCW7VMjyMTox"
      }
    },
    {
      "cell_type": "markdown",
      "source": [
        "24. How do you raise an exception manually in Python?\n",
        "\n",
        "- In Python, you can manually raise an exception using the raise keyword. This is useful when you want to enforce custom error conditions in your code.\n",
        "\n"
      ],
      "metadata": {
        "id": "vBo2OPweM5ra"
      }
    },
    {
      "cell_type": "markdown",
      "source": [
        "25.Why is it important to use multithreading in certain applications?\n",
        "\n",
        "- Multithreading is useful in applications that require parallel execution of tasks, improving performance, responsiveness, and efficiency. Here’s why multithreading is important:\n",
        "\n",
        " - Increases Performance for I/O-bound Tasks\n",
        "\n",
        " -   Improves Application Responsiveness"
      ],
      "metadata": {
        "id": "_jRw2hYbNJmL"
      }
    },
    {
      "cell_type": "markdown",
      "source": [
        "#PRACTICAL QUESTIONS"
      ],
      "metadata": {
        "id": "WZdeKej8NkeI"
      }
    },
    {
      "cell_type": "markdown",
      "source": [
        "1.How can you open a file for writing in Python and write a string to it?"
      ],
      "metadata": {
        "id": "d5EDFj5ONvAe"
      }
    },
    {
      "cell_type": "code",
      "source": [
        "# Open file in write mode (\"w\")\n",
        "with open(\"example.txt\", \"w\") as file:\n",
        "    file.write(\"Hello, this is a sample text!\")\n",
        "\n",
        "print(\"File written successfully!\")\n"
      ],
      "metadata": {
        "id": "ICnfUEuRN1Od"
      },
      "execution_count": null,
      "outputs": []
    },
    {
      "cell_type": "markdown",
      "source": [
        "2.Write a Python program to read the contents of a file and print each line?\n"
      ],
      "metadata": {
        "id": "VcJWDX55N9cV"
      }
    },
    {
      "cell_type": "code",
      "source": [
        "# Open the file in read mode\n",
        "with open(\"example.txt\", \"r\") as file:\n",
        "    for line in file:\n",
        "        print(line.strip())  # Strip removes extra newlines\n"
      ],
      "metadata": {
        "id": "jW8ISmi2OG5r"
      },
      "execution_count": null,
      "outputs": []
    },
    {
      "cell_type": "markdown",
      "source": [
        "3.How would you handle a case where the file doesn't exist while trying to open it for reading?"
      ],
      "metadata": {
        "id": "Pl7q2eiqOH1_"
      }
    },
    {
      "cell_type": "code",
      "source": [
        "try:\n",
        "    with open(\"example.txt\", \"r\") as file:\n",
        "        for line in file:\n",
        "            print(line.strip())\n",
        "except FileNotFoundError:\n",
        "    print(\"Error: The file does not exist. Please check the filename or path.\")\n"
      ],
      "metadata": {
        "id": "H3wXs_poOL10"
      },
      "execution_count": null,
      "outputs": []
    },
    {
      "cell_type": "markdown",
      "source": [
        "4. Write a Python script that reads from one file and writes its content to another file?"
      ],
      "metadata": {
        "id": "cwSbIPhHOSkP"
      }
    },
    {
      "cell_type": "code",
      "source": [
        "# Define file names\n",
        "source_file = \"source.txt\"\n",
        "destination_file = \"destination.txt\"\n",
        "\n",
        "# Read from source and write to destination\n",
        "try:\n",
        "    with open(source_file, \"r\") as source, open(destination_file, \"w\") as destination:\n",
        "        for line in source:\n",
        "            destination.write(line)\n",
        "\n",
        "    print(f\"Content successfully copied from '{source_file}' to '{destination_file}'\")\n",
        "\n",
        "except FileNotFoundError:\n",
        "    print(f\"Error: The file '{source_file}' does not exist.\")\n"
      ],
      "metadata": {
        "id": "AwnppOenOZ2G"
      },
      "execution_count": null,
      "outputs": []
    },
    {
      "cell_type": "markdown",
      "source": [
        "5.How would you catch and handle division by zero error in Python?"
      ],
      "metadata": {
        "id": "seJOy2LlOijQ"
      }
    },
    {
      "cell_type": "code",
      "source": [
        "try:\n",
        "    result = 10 / 0  # This will raise ZeroDivisionError\n",
        "except ZeroDivisionError:\n",
        "    print(\"Error: Division by zero is not allowed.\")\n"
      ],
      "metadata": {
        "id": "qRqnCXV8Ooqq"
      },
      "execution_count": null,
      "outputs": []
    },
    {
      "cell_type": "markdown",
      "source": [
        "6.Write a Python program that logs an error message to a log file when a division by zero exception occurs."
      ],
      "metadata": {
        "id": "9mrKAIZ9OvJh"
      }
    },
    {
      "cell_type": "code",
      "source": [
        "import logging\n",
        "\n",
        "# Configure logging (writes to 'error.log' file)\n",
        "logging.basicConfig(\n",
        "    filename=\"error.log\",  # Log file name\n",
        "    level=logging.ERROR,    # Log only errors and above\n",
        "    format=\"%(asctime)s - %(levelname)s - %(message)s\"  # Log format\n",
        ")\n",
        "\n",
        "def divide_numbers(a, b):\n",
        "    try:\n",
        "        result = a / b\n",
        "        return result\n",
        "    except ZeroDivisionError:\n",
        "        logging.error(\"Attempted to divide by zero.\")  # Log error\n",
        "        return None  # Return None instead of crashing\n",
        "\n",
        "# Test cases\n",
        "print(divide_numbers(10, 2))  # Should print: 5.0\n",
        "print(divide_numbers(10, 0))  # Should log an error and print: None\n",
        "\n",
        "print(\"Check 'error.log' for logged errors.\")\n"
      ],
      "metadata": {
        "id": "DrDHFVEROzyA"
      },
      "execution_count": null,
      "outputs": []
    },
    {
      "cell_type": "markdown",
      "source": [
        "7. How do you log information at different levels (INFO, ERROR, WARNING) in Python using the logging module?\n"
      ],
      "metadata": {
        "id": "EYkFMiEfO9Js"
      }
    },
    {
      "cell_type": "code",
      "source": [
        "import logging\n",
        "\n",
        "# Configure logging to log messages to a file\n",
        "logging.basicConfig(\n",
        "    filename=\"app.log\",  # Log file name\n",
        "    level=logging.DEBUG,  # Set logging level (captures DEBUG and above)\n",
        "    format=\"%(asctime)s - %(levelname)s - %(message)s\"  # Log format\n",
        ")\n",
        "\n",
        "# Log messages at different levels\n",
        "logging.debug(\"This is a DEBUG message.\")\n",
        "logging.info(\"This is an INFO message.\")\n",
        "logging.warning(\"This is a WARNING message.\")\n",
        "logging.error(\"This is an ERROR message.\")\n",
        "logging.critical(\"This is a CRITICAL message.\")\n",
        "\n",
        "print(\"Logging complete. Check 'app.log' for details.\")\n"
      ],
      "metadata": {
        "id": "LiDERPJXPCpi"
      },
      "execution_count": null,
      "outputs": []
    },
    {
      "cell_type": "markdown",
      "source": [
        "8. Write a program to handle a file opening error using exception handling."
      ],
      "metadata": {
        "id": "QPmC3GXvPInH"
      }
    },
    {
      "cell_type": "markdown",
      "source": [],
      "metadata": {
        "id": "uiKZXc3JPV55"
      }
    },
    {
      "cell_type": "code",
      "source": [
        "try:\n",
        "    # Attempt to open a file that may not exist\n",
        "    with open(\"non_existent_file.txt\", \"r\") as file:\n",
        "        content = file.read()\n",
        "        print(content)\n",
        "\n",
        "except FileNotFoundError:\n",
        "    print(\"Error: The file does not exist. Please check the filename or path.\")\n",
        "\n",
        "except Exception as e:\n",
        "    print(f\"An unexpected error occurred: {e}\")\n"
      ],
      "metadata": {
        "id": "m8VgrxCiPMvO"
      },
      "execution_count": null,
      "outputs": []
    },
    {
      "cell_type": "markdown",
      "source": [
        "9.How can you read a file line by line and store its content in a list in Python."
      ],
      "metadata": {
        "id": "-P1MtqwfPZH8"
      }
    },
    {
      "cell_type": "code",
      "source": [
        "# Open the file and read all lines into a list\n",
        "with open(\"example.txt\", \"r\") as file:\n",
        "    lines = file.readlines()  # Reads all lines and stores them in a list\n",
        "\n",
        "print(lines)  # Output: ['First line\\n', 'Second line\\n', 'Third line\\n']\n"
      ],
      "metadata": {
        "id": "Pegqn89gPhV-"
      },
      "execution_count": null,
      "outputs": []
    },
    {
      "cell_type": "markdown",
      "source": [
        "10.How can you append data to an existing file in Python."
      ],
      "metadata": {
        "id": "htvaVrRkPn9H"
      }
    },
    {
      "cell_type": "code",
      "source": [
        "with open(\"example.txt\", \"a\") as file:\n",
        "    file.write(\"\\nThis is a new line added to the file.\")\n"
      ],
      "metadata": {
        "id": "FWqUX802PxSV"
      },
      "execution_count": null,
      "outputs": []
    },
    {
      "cell_type": "markdown",
      "source": [
        "11.Write a Python program that uses a try-except block to handle an error when attempting to access a\n",
        "dictionary key that doesn't exist."
      ],
      "metadata": {
        "id": "ijnDzcyeP85M"
      }
    },
    {
      "cell_type": "code",
      "source": [
        "# Sample dictionary\n",
        "student_scores = {\"Alice\": 85, \"Bob\": 90, \"Charlie\": 78}\n",
        "\n",
        "try:\n",
        "    # Attempt to access a non-existent key\n",
        "    score = student_scores[\"David\"]\n",
        "\n"
      ],
      "metadata": {
        "id": "grtGx8e9QCIo"
      },
      "execution_count": null,
      "outputs": []
    },
    {
      "cell_type": "markdown",
      "source": [
        "12.Write a program that demonstrates using multiple except blocks to handle different types of exceptions."
      ],
      "metadata": {
        "id": "Vuxi1OfNQJRf"
      }
    },
    {
      "cell_type": "code",
      "source": [
        "try:\n",
        "    # User input and conversion\n",
        "    num = int(input(\"Enter a number: \"))\n",
        "\n",
        "    # Division operation\n",
        "    result = 100 / num\n",
        "    print(f\"Result: {result}\")\n",
        "\n",
        "except ValueError:\n",
        "    print(\"Error: Invalid input! Please enter a valid integer.\")\n",
        "\n",
        "except ZeroDivisionError:\n",
        "    print(\"Error: Division by zero is not allowed.\")\n",
        "\n",
        "except Exception as e:\n",
        "    print(f\"An unexpected error occurred: {e}\")\n"
      ],
      "metadata": {
        "id": "l3KSh-ufQNpb"
      },
      "execution_count": null,
      "outputs": []
    },
    {
      "cell_type": "markdown",
      "source": [
        "13. How would you check if a file exists before attempting to read it in Python."
      ],
      "metadata": {
        "id": "uU_ehPA4QW9Y"
      }
    },
    {
      "cell_type": "code",
      "source": [
        "import os\n",
        "\n",
        "filename = \"example.txt\"\n",
        "\n",
        "if os.path.exists(filename):  # Check if the file exists\n",
        "    with open(filename, \"r\") as file:\n",
        "        content = file.read()\n",
        "        print(content)\n",
        "else:\n",
        "    print(f\"Error: The file '{filename}' does not exist.\")\n"
      ],
      "metadata": {
        "id": "mOZgmgG6QcQU"
      },
      "execution_count": null,
      "outputs": []
    },
    {
      "cell_type": "markdown",
      "source": [
        "14.Write a program that uses the logging module to log both informational and error messages."
      ],
      "metadata": {
        "id": "3N6vpyLsQio7"
      }
    },
    {
      "cell_type": "code",
      "source": [
        "import logging\n",
        "\n",
        "# Configure logging settings\n",
        "logging.basicConfig(\n",
        "    filename=\"app.log\",  # Log file name\n",
        "    level=logging.DEBUG,  # Log all messages from DEBUG level and above\n",
        "    format=\"%(asctime)s - %(levelname)s - %(message)s\",  # Log format\n",
        "    datefmt=\"%Y-%m-%d %H:%M:%S\"  # Date format\n",
        ")\n",
        "\n",
        "def divide_numbers(a, b):\n",
        "    \"\"\"Function to divide two numbers with error handling.\"\"\"\n",
        "    try:\n",
        "        logging.info(f\"Attempting to divide {a} by {b}\")  # Log INFO message\n",
        "        result = a / b\n",
        "        logging.info(f\"Division successful: {a} / {b} = {re\n"
      ],
      "metadata": {
        "id": "dcR552McQnPJ"
      },
      "execution_count": null,
      "outputs": []
    },
    {
      "cell_type": "markdown",
      "source": [
        "15.Write a Python program that prints the content of a file and handles the case when the file is empty."
      ],
      "metadata": {
        "id": "Ltafn7QwQvT0"
      }
    },
    {
      "cell_type": "code",
      "source": [
        "import os\n",
        "\n",
        "def print_file_content(filename):\n",
        "    \"\"\"Reads and prints file content, handling missing or empty files.\"\"\"\n",
        "    if not os.path.exists(filename):\n",
        "        print(f\"Error: The file '{filename}' does not exist.\")\n",
        "        return\n",
        "\n",
        "    with open(filename, \"r\") as file:\n",
        "        content = file.read()\n",
        "\n",
        "        if not content:  # Check if file is empty\n",
        "            print(f\"The file '{filename}' is\n"
      ],
      "metadata": {
        "id": "zGMITEb7Q0ws"
      },
      "execution_count": null,
      "outputs": []
    },
    {
      "cell_type": "markdown",
      "source": [
        "16.Demonstrate how to use memory profiling to check the memory usage of a small program.\n"
      ],
      "metadata": {
        "id": "Ls0Qay_ZQ68w"
      }
    },
    {
      "cell_type": "code",
      "source": [
        "from memory_profiler import profile\n",
        "\n",
        "@profile\n",
        "def process_data():\n",
        "    \"\"\"Function that creates and processes a large list to demonstrate memory usage.\"\"\"\n",
        "    data = [i ** 2 for i in range(100000)]  # Create a large list\n",
        "    total = sum(data)  # Sum all elements\n",
        "    del data  # Free memory by deleting the list\n",
        "    return total\n",
        "\n",
        "if __name__ == \"__main__\":\n",
        "    process_data()\n"
      ],
      "metadata": {
        "id": "fTT5H34pRGDX"
      },
      "execution_count": null,
      "outputs": []
    },
    {
      "cell_type": "markdown",
      "source": [],
      "metadata": {
        "id": "stFhghbhRPIY"
      }
    },
    {
      "cell_type": "markdown",
      "source": [
        "17.Write a Python program to create and write a list of numbers to a file, one number per line."
      ],
      "metadata": {
        "id": "pZUjNZ3kRPaJ"
      }
    },
    {
      "cell_type": "code",
      "source": [
        "def write_numbers_to_file(filename, numbers):\n",
        "    \"\"\"Writes a list of numbers to a file, one number per line.\"\"\"\n",
        "    with open(filename, \"w\") as file:  # Open file in write mode\n",
        "        for num in numbers:\n",
        "            file.write(f\"{num}\\n\")  # Write each number on a new line\n",
        "\n",
        "# Define a list of numbers\n",
        "numbers = list(range(1, 11))  # Numbers from 1 to 10\n",
        "\n",
        "# Specify the filename\n",
        "filename = \"numbers.txt\"\n",
        "\n",
        "# Write numbers to file\n",
        "write_numbers_to_file(filename, numbers)\n",
        "\n",
        "print(f\"Numbers have been written to '{filename}'.\")\n"
      ],
      "metadata": {
        "id": "4-Dr-gETRVLL"
      },
      "execution_count": null,
      "outputs": []
    },
    {
      "cell_type": "markdown",
      "source": [
        "18.F How would you implement a basic logging setup that logs to a file with rotation after 1MB."
      ],
      "metadata": {
        "id": "0SqCvirSRcDH"
      }
    },
    {
      "cell_type": "code",
      "source": [
        "import logging\n",
        "from logging.handlers import RotatingFileHandler\n",
        "\n",
        "# Configure Rotating File Logger\n",
        "log_file = \"app.log\"\n",
        "\n",
        "handler = RotatingFileHandler(\n",
        "    log_file, maxBytes=1_048_576, backupCount=3  # 1MB file size, keep 3 backups\n",
        ")\n",
        "\n",
        "# Set logging format\n",
        "formatter = logging.Formatter(\"%(asctime)s - %(levelname)s - %(message)s\")\n",
        "handler.setFormatter(formatter)\n",
        "\n",
        "# Get logger and attach handler\n",
        "logger = logging.getLogger(\"RotatingLogger\")\n",
        "logger.setLevel(logging.DEBUG)  # Log all messages (DEBUG and above)\n",
        "logger.addHandler(handler)\n",
        "\n",
        "# Generate log messages for testing\n",
        "for i in range(10000):\n",
        "    logger.info(f\"This is log message {i}\")\n",
        "\n"
      ],
      "metadata": {
        "id": "5AOn-5_URgu0"
      },
      "execution_count": null,
      "outputs": []
    },
    {
      "cell_type": "markdown",
      "source": [
        "19.Write a program that handles both IndexError and KeyError using a try-except block."
      ],
      "metadata": {
        "id": "JcDxUO5uRpJM"
      }
    },
    {
      "cell_type": "code",
      "source": [
        "def handle_exceptions():\n",
        "    my_list = [10, 20, 30]  # List with 3 elements\n",
        "    my_dict = {\"a\": 1, \"b\": 2}  # Dictionary with 2 keys\n",
        "\n",
        "    try:\n",
        "        # Attempt to access an out-of-range index\n",
        "        print(\"List element:\", my_list[5])\n",
        "\n",
        "        # Attempt to access a missing dictionary key\n",
        "        print(\"Dictionary value:\", my_dict[\"c\"])\n",
        "\n",
        "    except IndexError:\n",
        "        print(\"Error: Index out of range! The list doesn't have that many elements.\")\n",
        "\n",
        "    except KeyError:\n",
        "        print(\"Error: Key not found in the dictionary!\")\n",
        "\n",
        "# Run the function\n",
        "handle_exceptions()\n"
      ],
      "metadata": {
        "id": "uTmoZUcARwAs"
      },
      "execution_count": null,
      "outputs": []
    },
    {
      "cell_type": "markdown",
      "source": [
        "20.How would you open a file and read its contents using a context manager in Python."
      ],
      "metadata": {
        "id": "OnHTYndTR3bZ"
      }
    },
    {
      "cell_type": "code",
      "source": [
        "# Open and read a file using a context manager\n",
        "filename = \"example.txt\"  # Change this to your file name\n",
        "\n",
        "with open(filename, \"r\") as file:  # Open file in read mode\n",
        "    content = file.read()  # Read the entire file content\n",
        "\n",
        "# File is automatically closed after the 'with' block\n",
        "\n",
        "print(\"File Contents:\\n\", content)  # Print the file contents\n",
        "\n"
      ],
      "metadata": {
        "id": "MdMG2imeR8g1"
      },
      "execution_count": null,
      "outputs": []
    },
    {
      "cell_type": "markdown",
      "source": [
        "21.Write a Python program that reads a file and prints the number of occurrences of a specific word."
      ],
      "metadata": {
        "id": "T4xoIqmXSNEe"
      }
    },
    {
      "cell_type": "code",
      "source": [
        "def count_word_occurrences(filename, word):\n",
        "    \"\"\"Reads a file and counts occurrences of a specific word.\"\"\"\n",
        "    try:\n",
        "        with open(filename, \"r\") as file:  # Open file in read mode\n",
        "            content = file.read().lower()  # Read file and convert to lowercase\n",
        "\n",
        "        word_count = content.split().count(word.lower())  # Count word occurrences\n",
        "        print(f\"The word '{word}' appears {word_count} times in '{filename}'.\")\n",
        "\n",
        "    except FileNotFoundError:\n",
        "        print(f\"Error: The file '{filename}' does not exist.\")\n",
        "\n",
        "# Example usage\n",
        "filename = \"sample.txt\"  # Change to your file name\n",
        "word = \"Python\"  # Word to count\n",
        "count_word_occurrences(filename, word)\n"
      ],
      "metadata": {
        "id": "OLSTBLi0SRo5"
      },
      "execution_count": null,
      "outputs": []
    },
    {
      "cell_type": "markdown",
      "source": [
        "22.How can you check if a file is empty before attempting to read its contents."
      ],
      "metadata": {
        "id": "6bHdcV9TSYny"
      }
    },
    {
      "cell_type": "code",
      "source": [
        "import os\n",
        "\n",
        "filename = \"example.txt\"  # Change to your file name\n",
        "\n",
        "if os.path.exists(filename) and os.path.getsize(filename) == 0:\n",
        "    print(f\"The file '{filename}' is empty.\")\n",
        "else:\n",
        "    with open(filename, \"r\") as file:\n",
        "        content = file.read()\n",
        "        print(\"File contents:\\n\", content)\n"
      ],
      "metadata": {
        "id": "hVvsXRkDSeVz"
      },
      "execution_count": null,
      "outputs": []
    },
    {
      "cell_type": "markdown",
      "source": [
        "23.Write a Python program that writes to a log file when an error occurs during file handling."
      ],
      "metadata": {
        "id": "6LbuiQeQSlVE"
      }
    },
    {
      "cell_type": "code",
      "source": [
        "import logging\n",
        "\n",
        "# Configure logging to write errors to a log file\n",
        "logging.basicConfig(\n",
        "    filename=\"error.log\",  # Log file name\n",
        "    level=logging.ERROR,  # Log only errors and critical messages\n",
        "    format=\"%(asctime)s - %(levelname)s - %(message)s\",  # Log format\n",
        ")\n",
        "\n",
        "def read_file(filename):\n",
        "    \"\"\"Attempts to open and read a file, logging errors if they occur.\"\"\"\n",
        "    try:\n",
        "        with open(filename, \"r\") as file:\n",
        "            content = file.read()\n",
        "            print(\"File contents:\\n\", content)  # Display file content\n",
        "    except FileNotFoundError:\n",
        "        logging.error(f\"Error: The file '{filename}' was not found.\")\n",
        "        print(f\"Error: The file '{filename}' does not exist.\")\n",
        "    except PermissionError:\n",
        "        logging.error(f\"Error: Permission denied for '{filename}'.\")\n",
        "        print(f\"Error: Permission denied for '{filename}'.\")\n",
        "    except Exception as e:\n",
        "        logging.error(f\"Unexpected error: {e}\")\n",
        "        print(f\"An unexpected error occurred: {e}\")\n",
        "\n",
        "# Example usage\n",
        "filename = \"example.txt\"  # Change this to test different scenarios\n",
        "read_file(filename)\n",
        "\n",
        "print(\"Error logging complete. Check 'error.log' for details.\")\n"
      ],
      "metadata": {
        "id": "MY3MuCEUSpcn"
      },
      "execution_count": null,
      "outputs": []
    }
  ]
}