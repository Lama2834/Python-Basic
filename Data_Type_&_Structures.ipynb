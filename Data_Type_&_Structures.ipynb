{
  "nbformat": 4,
  "nbformat_minor": 0,
  "metadata": {
    "colab": {
      "provenance": []
    },
    "kernelspec": {
      "name": "python3",
      "display_name": "Python 3"
    },
    "language_info": {
      "name": "python"
    }
  },
  "cells": [
    {
      "cell_type": "code",
      "execution_count": null,
      "metadata": {
        "id": "nHgF9Xl76SVz"
      },
      "outputs": [],
      "source": []
    },
    {
      "cell_type": "markdown",
      "source": [
        "#Data Type & Structure Questions\n"
      ],
      "metadata": {
        "id": "ET5489BB7Iaa"
      }
    },
    {
      "cell_type": "markdown",
      "source": [
        "1.What are data structure and why they important?\n",
        "  - Data structures are ways of organizing and storing data in a computer so that it can be used efficiently. They are fundamental to computer science and are used in almost every aspect of programming.\n",
        "\n",
        "Why are data structures important?\n",
        "\n",
        "- Efficiency: Data structures allow you to store and access data in a way that is optimized for specific operations. For example, a hash table is a data structure that allows you to quickly search for a specific item.\n",
        "- Organization: Data structures help you to organize your data in a logical way, which makes it easier to understand and work with.\n",
        "- Reusability: Data structures can be reused in different programs, which can save you time and effort.\n",
        "\n",
        "\n"
      ],
      "metadata": {
        "id": "FDV7g4cE7dJG"
      }
    },
    {
      "cell_type": "markdown",
      "source": [
        "2.Explain the diffrence between mutable and immutable data type with examples.\n",
        "- in programming, data types can be categorized as either mutable or immutable. This distinction refers to whether the value of an object can be changed after it is created.\n",
        "\n",
        "Mutable Data Types\n",
        "\n",
        "- Definition: Mutable data types are those whose values can be changed after they are created. This means that you can modify the contents of the object directly without creating a new object.\n",
        "Examples:\n",
        "- Lists: Lists are ordered collections of items, and you can add, remove, or modify elements within a list"
      ],
      "metadata": {
        "id": "FY7JPuEkA1HW"
      }
    },
    {
      "cell_type": "code",
      "source": [
        "my_list = [1, 2, 3]\n",
        "my_list.append(4)  # Modifies the original list\n",
        "print(my_list)  # Output: [1, 2, 3, 4]"
      ],
      "metadata": {
        "id": "xHd657dCB7ya"
      },
      "execution_count": null,
      "outputs": []
    },
    {
      "cell_type": "markdown",
      "source": [],
      "metadata": {
        "id": "PkykZ8hM6v4q"
      }
    },
    {
      "cell_type": "markdown",
      "source": [
        "- Dictionaries: Dictionaries store data in key-value pairs, and you can add, remove, or update these pairs.\n",
        "Python"
      ],
      "metadata": {
        "id": "k63yAXCGB-Lu"
      }
    },
    {
      "cell_type": "code",
      "source": [
        "my_dict = {\"name\": \"Alice\", \"age\": 30}\n",
        "my_dict[\"age\"] = 31  # Updates the value associated with the key \"age\"\n",
        "print(my_dict)  # Output: {\"name\": \"Alice\", \"age\": 31}"
      ],
      "metadata": {
        "id": "JxQJrlJ7CHx3"
      },
      "execution_count": null,
      "outputs": []
    },
    {
      "cell_type": "markdown",
      "source": [],
      "metadata": {
        "id": "i2fSfBW1CN8J"
      }
    },
    {
      "cell_type": "markdown",
      "source": [
        "- Sets: Sets are unordered collections of unique items, and you can add or remove elements."
      ],
      "metadata": {
        "id": "-bG4bvhpCV5H"
      }
    },
    {
      "cell_type": "code",
      "source": [
        "my_set = {1, 2, 3}\n",
        "my_set.add(4)  # Adds 4 to the set\n",
        "print(my_set)  # Output: {1, 2, 3, 4}"
      ],
      "metadata": {
        "id": "t8y8dAzxCcy2"
      },
      "execution_count": null,
      "outputs": []
    },
    {
      "cell_type": "markdown",
      "source": [
        "Immutable Data Types\n",
        "\n",
        "- Definition: Immutable data types are those whose values cannot be changed after they are created. Any operation that appears to modify an immutable object actually creates a new object with1 the changed value.\n",
        "- In programming, data types can be categorized as either mutable or immutable. This distinction refers to whether the value of an object can be changed after it is created.\n",
        "\n",
        "Mutable Data Types\n",
        "\n",
        "- Definition: Mutable data types are those whose values can be changed after they are created. This means that you can modify the contents of the object directly without creating a new object.\n",
        "\n",
        "Examples:\n",
        "- Lists: Lists are ordered collections of items, and you can add, remove, or modify elements within a list.\n",
        "Python\n",
        "\n",
        "my_list = [1, 2, 3]\n",
        "my_list.append(4)  # Modifies the original list\n",
        "print(my_list)  # Output: [1, 2, 3, 4]\n",
        "Dictionaries: Dictionaries store data in key-value pairs, and you can add, remove, or update these pairs.\n",
        "\n",
        "\n",
        "\n"
      ],
      "metadata": {
        "id": "wFGHjhwECkPb"
      }
    },
    {
      "cell_type": "markdown",
      "source": [
        "3. What are the main differences between lists and tuples in Python?\n",
        "- Lists and tuples are both fundamental sequence types in Python, used to store collections of items. However, they have key differences that make them suitable for different purposes:\n",
        "\n",
        "- Mutability:\n",
        "\n",
        "Lists: Mutable, meaning you can modify them after creation. You can add, remove, or change elements within a list.\n",
        "Tuples: Immutable, meaning their contents cannot be altered once created. Any operation that seems to modify a tuple actually creates a new tuple with the changes.\n",
        "- Syntax:\n",
        "\n",
        "Lists: Defined using square brackets [].\n",
        "Tuples: Defined using parentheses ().\n",
        "- Performance:\n",
        "\n",
        "Lists: Slightly slower due to the overhead of dynamic resizing and mutability.\n",
        "Tuples: Generally faster, especially for lookup operations, due to their fixed size and immutability.\n",
        "- Memory Usage:\n",
        "\n",
        "Lists: Consume more memory due to the flexibility of being able to grow or shrink.\n",
        "Tuples: Consume less memory as their size is fixed.\n",
        "- Methods:\n",
        "\n",
        "Lists: Have more built-in methods for adding, removing, and manipulating elements (e.g., append, insert, remove, sort).\n",
        "Tuples: Have fewer built-in methods, primarily for accessing elements (e.g., count, index).\n",
        "-  Use Cases:\n",
        "\n",
        "Lists: Suitable for collections of items that may need to change over time, where flexibility is important.\n",
        "Tuples: Ideal for fixed collections of items, representing records or data where immutability is desired for data integrity.\n",
        "-  Hashability:\n",
        "\n",
        "Lists: Not hashable, so they cannot be used as keys in dictionaries or elements in sets.\n",
        "Tuples: Hashable (if they contain only hashable elements), allowing them to be used as dictionary keys or set elements.\n"
      ],
      "metadata": {
        "id": "F19ZyyKuEjfT"
      }
    },
    {
      "cell_type": "markdown",
      "source": [
        "4.Describe how dictionaries store data.\n",
        "- Dictionaries in Python store data as key-value pairs. This means that each piece of data is associated with a unique identifier called a \"key\", which allows you to quickly and easily retrieve the corresponding \"value\".\n",
        "\n",
        "Think of it like a real-world dictionary:\n",
        "\n",
        "- Key: The word you're looking up (e.g., \"apple\").\n",
        "Value: The definition of the word (e.g., \"a round fruit with red, green, or yellow skin\"\n",
        "\n",
        "How it works internally:\n",
        "\n",
        "Python dictionaries are typically implemented using a data structure called a hash table. Here's a simplified explanation:\n",
        "\n",
        "- Hashing: When you add a key-value pair to a dictionary, Python uses a hash function to convert the key into a unique integer called a \"hash code\".\n",
        "Indexing: This hash code is then used to determine the index where the key-value pair will be stored in the hash table.\n",
        "Storage: The key-value pair is stored at that index.\n",
        "Retrieval: When you want to access a value using its key, Python calculates the hash code of the key again and uses it to quickly locate the corresponding value in the hash table.\n",
        "Key features of dictionaries:\n",
        "\n",
        "- Unordered: Dictionaries do not maintain any specific order of elements.\n",
        "Mutable: You can add, remove, or modify key-value pairs in a dictionary after it's created.\n",
        "Keys must be unique: Each key in a dictionary must be unique. If you try to add a duplicate key, it will overwrite the existing value.\n",
        "Keys must be immutable: Keys must be immutable objects (e.g., strings, numbers, tuples). This is because hash functions rely on the immutability of keys to ensure consistent hash codes.\n",
        "\n",
        "5.Why might you use a set instead of a list in Python?\n",
        "- we would choose a set over a list in Python primarily when you need to ensure uniqueness of elements and/or you need fast membership checking.  Here's a breakdown of the key reasons:\n",
        "\n",
        "- Uniqueness: Sets, by definition, only store unique elements.  If you try to add an element that's already in the set, it will simply be ignored (no error, but no duplication either). Lists, on the other hand, can contain duplicate elements.  If you need to eliminate duplicates from a collection of items, converting it to a set is a very efficient way to do it.\n",
        "\n",
        "- Fast Membership Checking: Sets are optimized for checking if an element is present in the set.  The in operator is significantly faster for sets than it is for lists.  This is because sets use hashing for efficient lookups, while lists require iterating through the elements.  If you're doing a lot of \"is this element in my collection?\" checks, a set will give you a big performance boost.\n",
        "\n",
        "- Set Operations: Sets provide built-in support for common set operations like union, intersection, difference, etc.  These operations are very efficient and concise.  While you can achieve similar results with lists, the code would be more verbose and potentially less efficient.\n",
        "\n",
        "6.What is a string in Python,how it is diffrent from list?\n",
        "- In Python, a string is a sequence of characters, while a list is a sequence of items. This is the key difference between the two data types.\n",
        "\n",
        "- Strings\n",
        "\n",
        "Strings are immutable, meaning they cannot be changed after they are created.\n",
        "Strings are defined using single quotes (') or double quotes (\"). For example:\n",
        "string1 = 'Hello'\n",
        "string2 = \"World\"\n",
        "Lists\n",
        "\n",
        "Lists are mutable, meaning they can be changed after they are created.\n",
        "Lists are defined using square brackets ([]). For example:\n",
        "list1 = [1, 2, 3]\n",
        "list2 = ['a', 'b', 'c']\n",
        "\n",
        "7.How do tuples ensure data integrity in Python?\n",
        "- Tuples in Python ensure data integrity primarily through their immutability. This means that once a tuple is created, its elements cannot be changed, added, or removed. Here's how this immutability contributes to data integrity:\n",
        "\n",
        "- Preventing Accidental Modification: In larger programs, data might be passed between different functions or modules. If a data structure is mutable (like a list), a function might unintentionally modify it, leading to bugs in other parts of the program that rely on that data. Tuples, being immutable, prevent such accidental changes, ensuring that the data remains consistent throughout the program's execution.\n",
        "\n",
        "- Protecting Against Errors: Immutability also helps prevent errors that might arise from unexpected changes to data.\n",
        "\n",
        " If you know that a particular set of values should not change, using a tuple ensures that any attempt to modify it will result in an error, alerting you to the problem early on.\n",
        "\n",
        "- Enhancing Code Readability: When you see a tuple in your code, you can be confident that its values will not change. This makes the code easier to understand and reason about, as you don't have to worry about the data being modified elsewhere.\n",
        "\n",
        "- Enabling Use as Dictionary Keys: Because tuples are immutable, they can be used as keys in dictionaries. This is important because dictionary keys must be hashable, and mutable objects cannot be hashed. Using tuples as keys allows you to create complex data structures where the keys are themselves composed of multiple values.\n",
        "\n",
        "In summary, the immutability of tuples provides a strong guarantee of data integrity. By preventing modifications, tuples help ensure that data remains consistent and reliable throughout the program's execution, reducing the risk of bugs and making the code easier to understand and maintain.\n",
        "\n",
        "8.What is hash table,and how does it relate to dictionaries in Python?\n",
        "\n",
        "- A hash table is a data structure that stores key-value pairs. It uses a hash function to compute an index for each key, which is then used to store and retrieve the corresponding value. Hash tables are very efficient for lookups, insertions, and deletions, making them a popular choice for implementing dictionaries and other data structures.\n",
        "\n",
        "\n",
        "- Here's how hash tables work:\n",
        "\n",
        "- Hash Function: A hash function takes a key as input and produces an integer, called a hash value or hash code. This hash value is then used as an index into an array.\n",
        "- Array (Buckets): The hash table uses an array to store the key-value pairs. Each element in the array is called a bucket.\n",
        "\n",
        "- Relationship to Dictionaries in Python:\n",
        "\n",
        "Python dictionaries are implemented using hash tables. When you store a key-value pair in a dictionary, Python uses a hash function to calculate the index where the pair should be stored. This allows for fast retrieval of values given their keys.\n",
        "\n",
        "Benefits of using hash tables for dictionaries:\n",
        "\n",
        "Fast Lookups: On average, retrieving a value from a dictionary takes constant time, O(1), regardless of the size of the dictionary.\n",
        "Efficient Insertions and Deletions: Adding or removing key-value pairs is also typically very fast.\n",
        "\n",
        "\n",
        "9.can list contain different data types in Python?\n",
        "- Yes, lists in Python can absolutely contain different data types. They are heterogeneous, meaning you can mix and match integers, strings, booleans, other lists, tuples, objects of custom classes, and even None within the same list.\n",
        "\n",
        " - example\n"
      ],
      "metadata": {
        "id": "MFtCb7BTGQaj"
      }
    },
    {
      "cell_type": "code",
      "source": [
        "my_list = [10, \"hello\", 3.14, True, [1, 2, 3], (4, 5), None]\n",
        "\n",
        "print(my_list)  # Output: [10, 'hello', 3.14, True, [1, 2, 3], (4, 5), None]\n",
        "\n",
        "print(type(my_list[0]))  # Output: <class 'int'>\n",
        "print(type(my_list[1]))  # Output: <class 'str'>\n",
        "print(type(my_list[2]))  # Output: <class 'float'>\n",
        "print(type(my_list[3]))  # Output: <class 'bool'>\n",
        "print(type(my_list[4]))  # Output: <class 'list'>\n",
        "print(type(my_list[5]))  # Output: <class 'tuple'>\n",
        "print(type(my_list[6]))  # Output: <class 'NoneType'>"
      ],
      "metadata": {
        "id": "mriPYGI1GQrL"
      },
      "execution_count": null,
      "outputs": []
    },
    {
      "cell_type": "markdown",
      "source": [
        "10.Explain why strings are immutable in Python?\n",
        "\n",
        "- Strings in Python are immutable because of several design choices that contribute to efficiency, security, and simplicity. Here's a breakdown of the key reasons:\n",
        "\n",
        "- Memory Efficiency:  If strings were mutable, Python would need to allocate a new block of memory every time a string was modified. This would be very inefficient, especially when dealing with frequent string manipulations. Immutability allows Python to store identical strings only once in memory (a process called string interning).  If you create multiple variables with the same string value, they can all point to the same memory location, saving significant memory.\n",
        "\n",
        "- Performance: Operations like string comparison and hashing become faster with immutable strings.  Since the value of a string cannot change, Python can cache the hash value of a string when it's created. This avoids recalculating the hash every time it's needed, which is a common operation, especially when using strings as keys in dictionaries or sets.\n",
        "\n",
        "- Security: Immutability plays a role in security. Imagine if you were working with sensitive data like passwords. If strings were mutable, malicious code might be able to modify the password in memory.  Immutability prevents this type of attack. Once a string is created with the password, it cannot be altered in place.  (However, it's crucial to note that storing passwords in plain strings is highly discouraged.  Proper hashing and salting techniques should always be used for password storage.)\n",
        "\n",
        "- Simplicity and Predictability: Immutability simplifies code. When you pass a string to a function, you can be sure that the function won't modify the original string. This makes it easier to reason about the code and avoids unexpected side effects.\n",
        "\n",
        "- Thread Safety: In multithreaded environments, immutability ensures that multiple threads can access and use the same string without the risk of race conditions or data corruption.\n",
        "\n",
        " Since no thread can modify a string, there's no need for complex locking mechanisms to protect string data.\n",
        "\n",
        "\n",
        " 11.What advantages do dictionaries offer over list for certin tasks?\n",
        "\n",
        " - Dictionaries and lists are both fundamental data structures in Python, but they excel at different tasks. Here's a breakdown of the advantages dictionaries offer over lists in certain situations:\n",
        "\n",
        "1. Efficient Data Retrieval (Lookups):\n",
        "\n",
        "Dictionaries: Dictionaries are optimized for fast lookups. You can retrieve a value using its key in (on average) constant time, O(1). This is because dictionaries use hash tables, which allow Python to quickly locate the data associated with a key.\n",
        "\n",
        "Lists: Lists, on the other hand, require sequential searching. To find an element, you might need to iterate through the list until you find it. This can be slow, especially for large lists, with a time complexity of O(n) in the worst case.\n",
        "Example: Imagine you have a list of students and their scores. To find a student's score, you'd have to loop through the list. With a dictionary, you can directly access the score using the student's name as the key.\n",
        "\n",
        "2. Key-Value Relationships:\n",
        "\n",
        "Dictionaries: Dictionaries are designed to store data in key-value pairs, representing a natural relationship between two pieces of information. This makes them ideal for representing things like:\n",
        "User profiles (name: age, email: address)\n",
        "Configuration settings (setting_name: value)\n",
        "Mappings between items (word: definition)\n",
        "\n",
        "Lists: Lists are primarily for storing ordered sequences of items. While you can use indices to represent some kind of relationship, it's not as clear or efficient as using keys in a dictionary.\n",
        "\n",
        "3. Uniqueness of Keys:\n",
        "\n",
        "Dictionaries: Dictionaries enforce uniqueness among keys. This is useful when you want to ensure that each item is uniquely identified, like in the student example above where each student should have a unique name.\n",
        "Lists: Lists allow duplicate elements.\n",
        "\n",
        "4. Code Readability:\n",
        "\n",
        "Dictionaries: Using dictionaries can make your code more readable and self-documenting. The keys act as labels for the values, making it easier to understand what the data represents.\n",
        "\n",
        "Lists: The meaning of elements in a list often depends on their position, which can make the code harder to interpret, especially when dealing with complex data structures.\n",
        "\n",
        "12.Describe a scenario where using a tuple would be preferable over a list.\n",
        "\n",
        "- Let's consider a scenario where we're representing the RGB (Red, Green, Blue) color values of a pixel.  Using a tuple would be preferable over a list in this case for several reasons:\n",
        "\n",
        "Scenario: Representing Pixel Colors\n",
        "\n",
        "we're working with image processing, and you need to store the color of each pixel. Each pixel's color is represented by three integer values: Red, Green, and Blue, typically ranging from 0 to 255.\n",
        "\n",
        "Why a Tuple is Better:\n",
        "\n",
        "- Fixed Number of Elements: A color is always represented by three values (R, G, B).  This fixed number of elements makes a tuple a natural fit. You wouldn't expect to add or remove color components.  A list, being mutable, would allow you to accidentally add or remove elements, which would make the color data invalid.\n",
        "\n",
        "- Data Integrity (Immutability): Once you've defined the color of a pixel, you generally don't want to accidentally change the individual R, G, or B values.  Tuples' immutability ensures that the color data remains consistent. If you needed to change the color, you'd create a new tuple representing the new color, rather than modifying the existing one. This protects against accidental modification of color values, leading to a more robust program.\n",
        "\n",
        "Use as Dictionary Keys (If Needed): If you later decide to store pixel data in a dictionary (e.g., where the key is the pixel coordinate and the value is the color), you can use the RGB tuple as the key.  Lists cannot be used as dictionary keys because they are mutable.  This is a significant advantage if you need to create more complex data structures.\n",
        "\n",
        "Slight Performance Benefit (Often Negligible):  Tuples are sometimes slightly more memory-efficient and can offer minor performance advantages in some situations (though this is often negligible in modern Python).  The primary reasons to choose a tuple here are about correctness and clarity of your code, not raw speed.\n",
        "\n",
        "13.How do sets handle duplicate value in Python?\n",
        "\n",
        "- Sets in Python are designed to store only unique elements.  When you attempt to add a duplicate value to a set, it simply ignores the addition; the set remains unchanged.  It does not raise an error or create multiple instances of the value.\n",
        "\n",
        "Here's a breakdown of how sets handle duplicates:\n",
        "\n",
        "- Uniqueness Enforcement: The core principle of a set is to maintain uniqueness.  Internally, sets often use hash tables (similar to dictionaries) to efficiently check for the existence of an element.\n",
        "\n",
        "- Addition of Existing Element: When you try to add an element that is already present in the set, the set's add() method (or other methods that add elements) detects this existing element.\n",
        "\n",
        "- No Change to the Set: Instead of adding a duplicate, the set's internal state remains exactly the same. The set's size does not increase, and the duplicate value is not stored.\n",
        "\n",
        "14.How does the ''n\" keywords work differently for lists and dictionary?\n",
        "\n",
        "- The in keyword in Python works differently for lists and dictionaries primarily due to the underlying data structures and how they store data. Here's a breakdown:\n",
        "\n",
        "Lists:\n",
        "\n",
        "- Sequential Search: When you use in with a list, Python performs a sequential search. It iterates through the list, comparing each element to the value you're checking.\n",
        "\n",
        "- Time Complexity: In the worst-case scenario (when the element is at the end of the list or not present), the in operation has a time complexity of O(n), where n is the number of elements in the list. This means the time taken increases linearly with the size of the list.\n",
        "\n",
        "Dictionaries:\n",
        "\n",
        "- Hash Table Lookup: Dictionaries, on the other hand, use hash tables. When you use in with a dictionary, Python calculates the hash value of the key you're checking and uses it to quickly locate the corresponding bucket in the hash table.\n",
        "\n",
        "- Time Complexity: This hash table lookup makes the in operation for dictionaries very efficient, with an average time complexity of O(1). This means the time taken is (on average) constant, regardless of the size of the dictionary.\n",
        "\n",
        "15.can you modify the elements of tuples?Explain why or why not?\n",
        "\n",
        "- No, we cannot directly modify the elements of a tuple in Python. Tuples are immutable, which means that once a tuple is created, its contents cannot be changed.  You cannot add, remove, or change individual items within a tuple.\n",
        "\n",
        "Here's why tuples are immutable and what happens if you try to modify them:\n",
        "\n",
        "Why Immutability?\n",
        "\n",
        "- Data Integrity: Immutability ensures that the data stored in a tuple remains constant throughout the program's execution. This is useful for representing fixed collections of data, like coordinates (x, y), RGB color values (r, g, b), or database records where you don't want the individual fields to change.\n",
        "\n",
        "- Memory Efficiency: Python can optimize memory allocation for immutable objects like tuples.  Since the size and contents of a tuple are known when it's created, Python can sometimes store identical tuples only once in memory (string interning is a related concept).\n",
        "\n",
        "- Use as Dictionary Keys: Because tuples are immutable, they can be used as keys in dictionaries.  Dictionary keys must be hashable, and mutable objects (like lists) cannot be hashed.\n",
        "\n",
        "- Thread Safety: In multithreaded programs, immutability makes it safe for multiple threads to access and use the same tuple without the risk of data corruption or race conditions.\n",
        "\n",
        "What Happens When we Try to Modify a Tuple?\n",
        "\n",
        "If we attempt to modify a tuple (e.g., by assigning to an index, using methods like append() or extend(), or trying to remove an item), Python will raise a TypeError.\n",
        "\n",
        "\n",
        "16.What is a nested dictionary and give an example of its use case?\n",
        "\n",
        "- A nested dictionary in Python is a dictionary where the values associated with keys are themselves dictionaries.  It's a way to represent hierarchical or structured data.  Think of it as a dictionary within a dictionary.\n",
        "\n",
        "Use Cases:\n",
        "\n",
        "Nested dictionaries are useful in various situations where you have hierarchical data:\n",
        "\n",
        "- Representing Complex Objects: As shown in the example, you can use nested dictionaries to represent complex objects like students, where each student has multiple attributes (age, major, grades), and some of those attributes (like grades) might be further broken down.\n",
        "\n",
        "- Storing Configuration Settings:  Configuration files often have a hierarchical structure. Nested dictionaries can easily represent such configurations:\n",
        "\n",
        "- JSON Data: When working with JSON data (which is a common format for data exchange), nested dictionaries in Python closely correspond to the structure of JSON objects, making it easy to parse and work with JSON data.\n",
        "\n",
        "- Data Modeling: Nested dictionaries can be used to model relationships between entities. For example, you could represent a family tree using a nested dictionary where each person is a key, and their children (who might also have their own children) are values (which are themselves dictionaries).\n",
        "\n",
        "- Organizing Data:  Nested dictionaries can help you organize data in a more structured and manageable way, especially when dealing with large amounts of related information.  They allow you to group related data together, making it easier to access and manipulate\n",
        "\n",
        "17.Describe the time complexity of accessing elements in a dictonary.\n",
        "\n",
        "- Accessing elements in a Python dictionary is remarkably fast, thanks to the underlying implementation using hash tables. Here's a breakdown of the time complexity:\n",
        "\n",
        "Average Case: O(1) (Constant Time)\n",
        "\n",
        "In most common scenarios, accessing an element in a dictionary by its key takes constant time, denoted as O(1). This means that the time required to retrieve a value does not depend on the size of the dictionary. Whether your dictionary has 10 items or 10 million items, the access time will (on average) remain the same.\n",
        "Why O(1)?\n",
        "\n",
        "\n",
        "Dictionaries use hash tables to store key-value pairs. When you access an element using a key, Python calculates the hash value of that key. This hash value is then used to quickly locate the bucket where the corresponding value is stored. This process is very efficient.\n",
        "Worst Case: O(n) (Linear Time)\n",
        "\n",
        "\n",
        "While the average case is O(1), there is a worst-case scenario where the time complexity can become O(n), where 'n' is the number of elements in the dictionary. This happens when there are many hash collisions.\n",
        "Hash Collisions\n",
        "\n",
        "\n",
        "A hash collision occurs when two or more keys have the same hash value. In such cases, the dictionary needs to use alternative methods (like linked lists) to store and retrieve the values, which can degrade performance.\n",
        "Important Notes:\n",
        "\n",
        "Average Case Dominates: In practice, hash collisions are relatively rare, and the average case of O(1) access time is what you'll typically experience.\n",
        "Hash Function Matters: The efficiency of dictionary lookups depends heavily on the quality of the hash function used. A good hash function minimizes collisions.\n",
        "\n",
        "CPython Implementation: The specific implementation of dictionaries might vary slightly across different Python implementations (like CPython, PyPy, etc.), but the general principle of hash table lookups and the associated time complexity remain the same.\n",
        "\n",
        "\n",
        "18.In what situtions are lists preferred over disctionaries?\n",
        "\n",
        "- While dictionaries excel at fast lookups, lists are the preferred data structure in Python for several other situations:\n",
        "\n",
        "- Ordered Collections: Lists maintain the order in which elements are inserted.  If the order of your data is important, a list is the right choice. Dictionaries, prior to Python 3.7, did not guarantee any specific order (though since 3.7, insertion order is preserved as a CPython implementation detail, but relying on this is generally not recommended for code portability across Python implementations).\n",
        "\n",
        "- Sequential Access: If you need to iterate through your data in a specific order, lists are more convenient. You can easily loop through a list using a for loop, accessing elements one by one in the order they were added.  While you can iterate through a dictionary, the order is not guaranteed (again, prior to 3.7) and you need to iterate through keys or values separately.\n",
        "\n",
        "- Duplicate Values: Lists allow duplicate elements. If you need to store a collection of items where duplicates are allowed or expected, a list is the appropriate choice. Dictionaries, on the other hand, require unique keys.  \n",
        "\n",
        "- Simple Data Storage: If you just need to store a simple collection of items and don't need fast lookups based on keys, a list is often simpler and more straightforward to use.  For example, if you're storing a list of names or a sequence of numbers, a list might be all you need.\n",
        "\n",
        "- When Indices are Important: If the position or index of an element is meaningful in your application, lists are the natural choice.  You can easily access elements by their index.  While you can simulate this with dictionaries (using integer keys), it's less efficient and less readable than using a list.  \n",
        "\n",
        "- Small Datasets: For very small datasets, the performance difference between lists and dictionaries might be negligible. In such cases, the simplicity and ease of use of lists might make them preferable.\n",
        "\n",
        "- Stack or Queue Implementations: Lists can be used to implement stack (LIFO) and queue (FIFO) data structures relatively easily using methods like append() and pop().\n",
        "\n",
        "\n",
        "19.why are dictionaries considered unordered ,and how does that affect data retrieval?\n",
        "\n",
        "- Dictionaries in Python (prior to version 3.7) were traditionally considered unordered because they did not guarantee any specific order for the key-value pairs they stored. This behavior stemmed from how dictionaries are implemented using hash tables.\n",
        "\n",
        "Here's a breakdown:\n",
        "\n",
        "Hash Tables and Ordering:\n",
        "\n",
        "- How Dictionaries Work: Dictionaries use hash tables for efficient key-based lookups. A hash function takes a key as input and produces an index (a hash value) that determines where the corresponding key-value pair is stored in the hash table.\n",
        "\n",
        "- No Inherent Order: Hash functions are designed for speed, not for preserving the order of insertion. The hash values and the resulting positions in the hash table can be seemingly random and might not correspond to the order in which you added items to the dictionary.\n",
        "\n",
        "Why Unordered Matters (Historically):\n",
        "\n",
        "- Unpredictable Iteration: Before Python 3.7, if you iterated through a dictionary, the order in which you got the keys or key-value pairs was not guaranteed to be consistent. It could vary between different runs of your program or even between different Python implementations.\n",
        "\n",
        "- No Reliance on Order: Because dictionaries were unordered, you could not rely on the order of items when processing dictionary data. This meant you had to be careful when writing code that involved iterating through dictionaries.\n",
        "\n",
        "Python 3.7 and Later:\n",
        "\n",
        "Insertion Order Preservation: Starting with Python 3.7, the CPython implementation (the standard Python interpreter) now preserves the insertion order of items in dictionaries. This means that when you iterate through a dictionary, you will get the items in the order they were added.\n",
        "\n",
        "- Implementation Detail: However, it's crucial to understand that this insertion order preservation is an implementation detail of CPython. It's not a formal part of the Python language specification. So, while it's likely to work in most cases, relying on this behavior might make your code less portable to other Python implementations (like PyPy or Jython).\n",
        "\n",
        "How Ordering Affects Data Retrieval:\n",
        "\n",
        "Historically (Before 3.7): Because dictionaries were unordered, you could not retrieve items based on their position or the order in which they were added. You could only retrieve them using their keys.\n",
        "\n",
        "Modern Python (3.7+): With insertion order preserved, you can now iterate through a dictionary and get the items in the order they were inserted. However, it's still best practice to access dictionary elements primarily by their keys for efficient lookups. If order is truly important for your task, and you're using Python 3.7+, leveraging the ordering might be useful, but remember it's still technically an implementation detail.\n",
        "\n",
        "In summary:\n",
        "\n",
        "Dictionaries were traditionally considered unordered due to the nature of hash tables.\n",
        "This meant you couldn't rely on the order of items when iterating through dictionaries (prior to 3.7).\n",
        "Python 3.7+ preserves insertion order in CPython, but this is an implementation detail, not a core language guarantee.\n",
        "For efficient data retrieval, you should still access dictionary elements primarily using their keys.\n",
        "\n",
        "\n",
        "20.Explain the differences between a list and a dictionary in terms of data retrieval.\n",
        "\n",
        "- The key difference between lists and dictionaries in terms of data retrieval lies in how you access the data and the efficiency of that access.\n",
        "\n",
        "- Lists:\n",
        "\n",
        "Access by Index: You retrieve elements from a list using their numerical index (position). The indices start from 0 for the first element, 1 for the second, and so on.\n",
        "Sequential Search (Often): When you search for a specific value in a list (not by index), Python often performs a sequential search. It iterates through the list, comparing each element to the value you're looking for until it finds a match.\n",
        "\n",
        "- Time Complexity (Value Search): Searching for a value in a list has a time complexity of O(n) in the worst case, where 'n' is the number of elements in the list. This means the time taken to find an element can increase linearly with the size of the list.\n",
        "Time Complexity (Access by Index): Accessing an element by its index is O(1) - constant time.\n",
        "\n",
        "Dictionaries:\n",
        "\n",
        "- Access by Key: You retrieve elements from a dictionary using their key. Keys are unique identifiers associated with the values.\n",
        "Hash Table Lookup: Dictionaries use hash tables. When you access an element using a key, Python calculates the hash value of that key. This hash value is then used to quickly locate the memory location where the corresponding value is stored.\n",
        "Time Complexity (Key Lookup): Accessing an element by its key has an average time complexity of O(1). This means the time taken to retrieve a value is (on average) constant, regardless of the size of the dictionary.\n",
        "No inherent ordering for access (prior to Python 3.7): While Python 3.7+ preserves the insertion order, you still access elements by keys and not\n",
        "indices.\n",
        "\n",
        "\n",
        "\n",
        "# Practical Questions\n",
        "\n",
        "\n"
      ],
      "metadata": {
        "id": "uM0p8m1_GU3n"
      }
    },
    {
      "cell_type": "markdown",
      "source": [
        "1. write a code to create a string with your name and print it?\n",
        "\n"
      ],
      "metadata": {
        "id": "F7FodbAsS7l6"
      }
    },
    {
      "cell_type": "code",
      "source": [
        "my_name = \"Your Name Here\"  # Replace \"Your Name Here\" with your actual name\n",
        "print(my_name)"
      ],
      "metadata": {
        "id": "10DO1hkKUGdu"
      },
      "execution_count": null,
      "outputs": []
    },
    {
      "cell_type": "markdown",
      "source": [
        "2.write a code to find the length of the string \"Hellow world\".\n"
      ],
      "metadata": {
        "id": "STBLSPzSBcDt"
      }
    },
    {
      "cell_type": "code",
      "source": [
        "my_string = \"Hello world\"\n",
        "\n",
        "#: Using the built-in len() function\n",
        "string_length = len(my_string)\n",
        "print(f\"The length of the string '{my_string}' is: {string_length}\")\n",
        "\n"
      ],
      "metadata": {
        "id": "PVWaRIsRB4kn"
      },
      "execution_count": null,
      "outputs": []
    },
    {
      "cell_type": "markdown",
      "source": [
        "3.write a code to slice the first 3 characters from the string \"python programmimg\".\n"
      ],
      "metadata": {
        "id": "KD0RPfWvCEAj"
      }
    },
    {
      "cell_type": "code",
      "source": [
        "my_string = \"python programming\"\n",
        "\n",
        "#: Using string slicing\n",
        "first_three = my_string[0:3]  # Or simply my_string[:3]\n",
        "print(first_three)"
      ],
      "metadata": {
        "id": "3be4KMErCgYm"
      },
      "execution_count": null,
      "outputs": []
    },
    {
      "cell_type": "markdown",
      "source": [
        "4.write a code to convert the string \"hello\" to uppercase.\n"
      ],
      "metadata": {
        "id": "2zf9HeelCjeo"
      }
    },
    {
      "cell_type": "code",
      "source": [
        "my_string = \"hello\"\n",
        "\n",
        "#: Using the upper() method (most common and efficient)\n",
        "uppercase_string = my_string.upper()\n",
        "print(uppercase_string)\n"
      ],
      "metadata": {
        "id": "R93-h5cmC9We"
      },
      "execution_count": null,
      "outputs": []
    },
    {
      "cell_type": "markdown",
      "source": [
        "5.write a code to replace the word \"apple\" with \"orange\" in the string \"I like apple\".\n"
      ],
      "metadata": {
        "id": "mLKFf0fBDAqW"
      }
    },
    {
      "cell_type": "code",
      "source": [
        "my_string = \"I like apple\"\n",
        "\n",
        "#: Using the replace() method (most common and efficient)\n",
        "new_string = my_string.replace(\"apple\", \"orange\")\n",
        "print(new_string)"
      ],
      "metadata": {
        "id": "f9LDYDrkDkVM"
      },
      "execution_count": null,
      "outputs": []
    },
    {
      "cell_type": "markdown",
      "source": [
        "6.write a code to create a list with numbers 1 to 5 and print it.\n"
      ],
      "metadata": {
        "id": "S5h_0wn0DunY"
      }
    },
    {
      "cell_type": "code",
      "source": [
        "#: Using a loop and append()\n",
        "my_list = []\n",
        "for i in range(1, 6):  # range(1, 6) generates numbers from 1 up to (but not including) 6\n",
        "    my_list.append(i)\n",
        "print(my_list)"
      ],
      "metadata": {
        "id": "ZxKeCXcjEVEM"
      },
      "execution_count": null,
      "outputs": []
    },
    {
      "cell_type": "markdown",
      "source": [
        "7.write a code to append the numbers 10 to the list [1,2,3,4,].\n",
        "\n"
      ],
      "metadata": {
        "id": "VxYA4Ys0EZb7"
      }
    },
    {
      "cell_type": "code",
      "source": [
        "\n",
        "my_list = [1, 2, 3, 4]\n",
        "\n",
        "#: Using the append() method (adds 10 as a single element)\n",
        "my_list.append(10)\n",
        "print(my_list)"
      ],
      "metadata": {
        "id": "lCOCHkZvFLHp"
      },
      "execution_count": null,
      "outputs": []
    },
    {
      "cell_type": "markdown",
      "source": [
        "8.write a code to remove the numbers 3 from the list [1,2,3,4,5].\n"
      ],
      "metadata": {
        "id": "BneWkdrmFQ5_"
      }
    },
    {
      "cell_type": "code",
      "source": [
        "my_list = [1, 2, 3, 4, 5]\n",
        "\n",
        "#: Using remove() (removes the first occurrence)\n",
        "my_list.remove(3)\n",
        "print(my_list)"
      ],
      "metadata": {
        "id": "LXYCZt1UF25H"
      },
      "execution_count": null,
      "outputs": []
    },
    {
      "cell_type": "markdown",
      "source": [
        "9.write a code to access the second elements in the list ['a','b','c','d']."
      ],
      "metadata": {
        "id": "9AUawX_6F6FX"
      }
    },
    {
      "cell_type": "code",
      "source": [
        "my_list = ['a', 'b', 'c', 'd']\n",
        "second_element = my_list[1]  # Indexing starts from 0\n",
        "print(second_element)\n",
        "\n"
      ],
      "metadata": {
        "id": "z6Iugp4CHXUs"
      },
      "execution_count": null,
      "outputs": []
    },
    {
      "cell_type": "markdown",
      "source": [
        "10.write a code to reverse the list [10,20,30,40,50].\n",
        "\n"
      ],
      "metadata": {
        "id": "aZngRYF4HaB4"
      }
    },
    {
      "cell_type": "code",
      "source": [
        "my_list = [10, 20, 30, 40, 50]\n",
        "my_list.reverse()  # In-place reversal\n",
        "print(my_list)\n"
      ],
      "metadata": {
        "id": "uKnvbvNxIHqr"
      },
      "execution_count": null,
      "outputs": []
    },
    {
      "cell_type": "markdown",
      "source": [],
      "metadata": {
        "id": "rN5KMQkwEDdW"
      }
    },
    {
      "cell_type": "markdown",
      "source": [],
      "metadata": {
        "id": "8OApc5i3TIdD"
      }
    },
    {
      "cell_type": "markdown",
      "source": [
        "11.write a code tob create a tuple with the elements 100,200,300,and print it.\n",
        "\n"
      ],
      "metadata": {
        "id": "YGfU_LexItbs"
      }
    },
    {
      "cell_type": "code",
      "source": [
        "my_tuple = (100, 200, 300)  # Creating a tuple\n",
        "print(my_tuple)\n"
      ],
      "metadata": {
        "id": "vdZMf7GYJqMS"
      },
      "execution_count": null,
      "outputs": []
    },
    {
      "cell_type": "markdown",
      "source": [],
      "metadata": {
        "id": "SCI_OM6_JtDe"
      }
    },
    {
      "cell_type": "markdown",
      "source": [
        "12.write a code to access the second -to -last elements of the tuple ('red','green','blue,'yellow').\n",
        "\n"
      ],
      "metadata": {
        "id": "PbFnfIM7Jtbw"
      }
    },
    {
      "cell_type": "code",
      "source": [
        "my_tuple = ('red', 'green', 'blue', 'yellow')\n",
        "second_to_last_element = my_tuple[-2]  # Negative indexing (-1 is last, -2 is second-to-last)\n",
        "print(second_to_last_element)\n"
      ],
      "metadata": {
        "id": "UotAZ-C-LH8I"
      },
      "execution_count": null,
      "outputs": []
    },
    {
      "cell_type": "markdown",
      "source": [
        "13. write a code to find the minimum number in the  tuple (10,20,5,15).\n",
        "\n",
        "\n"
      ],
      "metadata": {
        "id": "RQ-aT6PLGSXu"
      }
    },
    {
      "cell_type": "code",
      "source": [
        "numbers = (10, 20, 5, 15)\n",
        "minimum_number = min(numbers)\n",
        "print(\"The minimum number is:\", minimum_number)\n",
        "\n",
        "\n"
      ],
      "metadata": {
        "id": "lVmnQM9zWjNf"
      },
      "execution_count": null,
      "outputs": []
    },
    {
      "cell_type": "markdown",
      "source": [
        "14.write a code to find the index of the element \"cat\" in the tuple ('dog','cat','rabbit,).\n"
      ],
      "metadata": {
        "id": "YAsELRueWl8C"
      }
    },
    {
      "cell_type": "code",
      "source": [
        "animals = ('dog', 'cat', 'rabbit')\n",
        "index_of_cat = animals.index('cat')\n",
        "print(\"The index of 'cat' is:\", index_of_cat)\n"
      ],
      "metadata": {
        "id": "NB7dFvk1XWtI"
      },
      "execution_count": null,
      "outputs": []
    },
    {
      "cell_type": "markdown",
      "source": [
        "15.write a code to create a tuple containing three different fruits and check if \"kiwi\" is in it.\n"
      ],
      "metadata": {
        "id": "zZawDNCfXYYm"
      }
    },
    {
      "cell_type": "code",
      "source": [
        "fruits = ('apple', 'banana', 'orange')\n",
        "\n",
        "# Check if 'kiwi' is in the tuple\n",
        "if 'kiwi' in fruits:\n",
        "    print(\"Kiwi is in the tuple.\")\n",
        "else:\n",
        "    print(\"Kiwi is not in the tuple.\")\n"
      ],
      "metadata": {
        "id": "7LzcYgH6X2Kn"
      },
      "execution_count": null,
      "outputs": []
    },
    {
      "cell_type": "markdown",
      "source": [
        "16.write a code to create a set with the elements 'a','b','c' and print it.\n",
        "\n"
      ],
      "metadata": {
        "id": "7qiSG7gXX7pi"
      }
    },
    {
      "cell_type": "code",
      "source": [
        "my_set = {'a', 'b', 'c'}\n",
        "print(\"The set is:\", my_set)\n"
      ],
      "metadata": {
        "id": "owzQf_ukYle9"
      },
      "execution_count": null,
      "outputs": []
    },
    {
      "cell_type": "markdown",
      "source": [
        "17.write a code to clear all elements from sets {1,2,3,4,5}.\n",
        "\n"
      ],
      "metadata": {
        "id": "O90IvIrjYmez"
      }
    },
    {
      "cell_type": "code",
      "source": [
        "my_set = {1, 2, 3, 4, 5}\n",
        "my_set.clear()  # Removes all elements from the set\n",
        "print(\"The set after clearing:\", my_set)\n"
      ],
      "metadata": {
        "id": "me_T6grPZC1c"
      },
      "execution_count": null,
      "outputs": []
    },
    {
      "cell_type": "markdown",
      "source": [
        "18.write a code to remove  the elements 4 from the sets {1,2,3,4}.\n",
        "\n"
      ],
      "metadata": {
        "id": "NVR6QtTbZDxs"
      }
    },
    {
      "cell_type": "code",
      "source": [
        "my_set = {1, 2, 3, 4}\n",
        "my_set.remove(4)  # Removes the element 4\n",
        "\n",
        "print(\"The set after removing 4:\", my_set)\n"
      ],
      "metadata": {
        "id": "8NR9Z1RoZdM4"
      },
      "execution_count": null,
      "outputs": []
    },
    {
      "cell_type": "markdown",
      "source": [
        "19.write a code to find the unoin of two sets {1,2,3} and {3,4,5}.\n",
        "\n"
      ],
      "metadata": {
        "id": "334bE-lkZkLi"
      }
    },
    {
      "cell_type": "code",
      "source": [
        "set1 = {1, 2, 3}\n",
        "set2 = {3, 4, 5}\n",
        "\n",
        "union_set = set1.union(set2)  # Using the union() method\n",
        "\n",
        "print(\"The union of the sets is:\", union_set)\n"
      ],
      "metadata": {
        "id": "oby22kOvaBAC"
      },
      "execution_count": null,
      "outputs": []
    },
    {
      "cell_type": "markdown",
      "source": [
        "20.write a code to find the intersection of two sets {1,2,3} and {2,3,4}.\n",
        "\n",
        "\n"
      ],
      "metadata": {
        "id": "SlozOro4aB-k"
      }
    },
    {
      "cell_type": "code",
      "source": [
        "set1 = {1, 2, 3}\n",
        "set2 = {2, 3, 4}\n",
        "\n",
        "intersection_set = set1.intersection(set2)  # Using the intersection() method\n",
        "\n",
        "print(\"The intersection of the sets is:\", intersection_set)\n"
      ],
      "metadata": {
        "id": "ZsKijqyDaoZP"
      },
      "execution_count": null,
      "outputs": []
    },
    {
      "cell_type": "markdown",
      "source": [
        "21.write a code to create a dictionary with the keys \"name\",\"age\",and \"city\",and print it.\n",
        "\n",
        "\n",
        "\n"
      ],
      "metadata": {
        "id": "C1nGphnUawgh"
      }
    },
    {
      "cell_type": "code",
      "source": [
        "person = {\n",
        "    \"name\": \"Lama\",\n",
        "    \"age\": 25,\n",
        "    \"city\": \"jamshedpur\"\n",
        "}\n",
        "\n",
        "print(\"The dictionary is:\", person)\n"
      ],
      "metadata": {
        "id": "LGyIgomGbaCo"
      },
      "execution_count": null,
      "outputs": []
    },
    {
      "cell_type": "markdown",
      "source": [
        "22.write a code to add a new key-value pair \"country\":\"USA\" to the dictionary {'name':'Alice','age':30}.\n",
        "\n"
      ],
      "metadata": {
        "id": "AQfqMetkbioy"
      }
    },
    {
      "cell_type": "code",
      "source": [
        "person = {'name': 'Alice', 'age': 30}\n",
        "\n",
        "# Adding a new key-value pair\n",
        "person['country'] = 'USA'\n",
        "\n",
        "print(\"Updated dictionary:\", person)\n"
      ],
      "metadata": {
        "id": "7IJvVOSOcdip"
      },
      "execution_count": null,
      "outputs": []
    },
    {
      "cell_type": "markdown",
      "source": [
        "23.write a code to access the value associted with the key\"name\" in the dictionary{'name',:'Alice' 'age':30}.\n",
        "\n",
        "\n"
      ],
      "metadata": {
        "id": "x9OXD2HkcfBb"
      }
    },
    {
      "cell_type": "code",
      "source": [
        "person = {'name': 'Alice', 'age': 30}\n",
        "\n",
        "# Accessing the value associated with the key \"name\"\n",
        "name_value = person['name']\n",
        "\n",
        "print(\"The value associated with 'name' is:\", name_value)\n"
      ],
      "metadata": {
        "id": "9xasGU1OdfID"
      },
      "execution_count": null,
      "outputs": []
    },
    {
      "cell_type": "markdown",
      "source": [
        "24.write a code to remove the key \"age\" from the dictionary {'name':'age':22,'city':'New York'.\n",
        "\n"
      ],
      "metadata": {
        "id": "Xi388E1fdgWU"
      }
    },
    {
      "cell_type": "code",
      "source": [
        "person = {'name': 'Alice', 'age': 22, 'city': 'New York'}\n",
        "\n",
        "# Removing the key \"age\"\n",
        "person.pop('age')\n",
        "\n",
        "print(\"Updated dictionary:\", person)\n"
      ],
      "metadata": {
        "id": "5Z1CO2foeeVs"
      },
      "execution_count": null,
      "outputs": []
    },
    {
      "cell_type": "markdown",
      "source": [
        "25.write a code to check if the key \"city\"exists in the dictionary {'name':'Alice','city':'New York'}.\n",
        "\n",
        "\n",
        "\n"
      ],
      "metadata": {
        "id": "IEVRnvemefTX"
      }
    },
    {
      "cell_type": "code",
      "source": [
        "person = {'name': 'Alice', 'city': 'New York'}\n",
        "\n",
        "# Checking if \"city\" exists in the dictionary\n",
        "if 'city' in person:\n",
        "    print(\"The key 'city' exists in the dictionary.\")\n",
        "else:\n",
        "    print(\"The key 'city' does not exist in the dictionary.\")\n",
        "\n",
        "\n"
      ],
      "metadata": {
        "id": "jfN0vNPofSmi"
      },
      "execution_count": null,
      "outputs": []
    },
    {
      "cell_type": "markdown",
      "source": [
        "26.write a code to create a list ,a tuple ,and a dictionary ,and print them all.\n",
        "\n",
        "\n"
      ],
      "metadata": {
        "id": "LFgfLuVOfe8f"
      }
    },
    {
      "cell_type": "code",
      "source": [
        "# Creating a list\n",
        "my_list = [1, 2, 3, 4, 5]\n",
        "\n",
        "# Creating a tuple\n",
        "my_tuple = ('apple', 'banana', 'cherry')\n",
        "\n",
        "# Creating a dictionary\n",
        "my_dict = {'name': 'Alice', 'age': 25, 'city': 'New York'}\n",
        "\n",
        "# Printing all\n",
        "print(\"List:\", my_list)\n",
        "print(\"Tuple:\", my_tuple)\n",
        "print(\"Dictionary:\", my_dict)\n"
      ],
      "metadata": {
        "id": "tkt9bT5Qf8bO"
      },
      "execution_count": null,
      "outputs": []
    },
    {
      "cell_type": "markdown",
      "source": [
        "27.write a code to create list of 5 random numner between 1 and 100 ,short in ascending order, and print the result .(replaced)\n",
        "\n"
      ],
      "metadata": {
        "id": "NSub1jAdf9oX"
      }
    },
    {
      "cell_type": "code",
      "source": [
        "import random\n",
        "\n",
        "# Generate a list of 5 random numbers between 1 and 100\n",
        "random_numbers = random.sample(range(1, 101), 5)\n",
        "\n",
        "# Sort the list in ascending order\n",
        "random_numbers.sort()\n",
        "\n",
        "# Print the sorted list\n",
        "print(\"Sorted list of random numbers:\", random_numbers)\n"
      ],
      "metadata": {
        "id": "R0i-oX72g1cE"
      },
      "execution_count": null,
      "outputs": []
    },
    {
      "cell_type": "markdown",
      "source": [
        "28.write a code to create a ,list with  strings and print the elements at the third index.\n",
        "\n"
      ],
      "metadata": {
        "id": "lT1SZy9qg3mp"
      }
    },
    {
      "cell_type": "code",
      "source": [
        "# Creating a list with strings\n",
        "my_list = [\"apple\", \"banana\", \"cherry\", \"orange\", \"grape\"]\n",
        "\n",
        "# Printing the element at index 3\n",
        "print(\"Element at the third index:\", my_list[3])\n"
      ],
      "metadata": {
        "id": "vrr9Stg9hftg"
      },
      "execution_count": null,
      "outputs": []
    },
    {
      "cell_type": "markdown",
      "source": [
        "29.write a code to combine two dictionaries into one and print the result.\n",
        "\n"
      ],
      "metadata": {
        "id": "rgWAzOKJhgvF"
      }
    },
    {
      "cell_type": "code",
      "source": [
        "# Define two dictionaries\n",
        "dict1 = {'a': 1, 'b': 2, 'c': 3}\n",
        "dict2 = {'d': 4, 'e': 5, 'f': 6}\n",
        "\n",
        "# Merge the dictionaries\n",
        "combined_dict = {**dict1, **dict2}\n",
        "\n",
        "# Print the result\n",
        "print(\"Combined Dictionary:\", combined_dict)\n"
      ],
      "metadata": {
        "id": "Kjjht-hyitn6"
      },
      "execution_count": null,
      "outputs": []
    },
    {
      "cell_type": "markdown",
      "source": [
        "30.write a code to convert a list of strings into the sets.\n"
      ],
      "metadata": {
        "id": "A46Yu99-ivew"
      }
    },
    {
      "cell_type": "code",
      "source": [
        "# Define a list of strings\n",
        "string_list = [\"apple\", \"banana\", \"cherry\", \"apple\", \"banana\"]\n",
        "\n",
        "# Convert the list into a set\n",
        "string_set = set(string_list)\n",
        "\n",
        "# Print the result\n",
        "print(\"Set of strings:\", string_set)\n"
      ],
      "metadata": {
        "id": "coUJ8gUSjA1E"
      },
      "execution_count": null,
      "outputs": []
    },
    {
      "cell_type": "code",
      "source": [
        "\n"
      ],
      "metadata": {
        "id": "9kuOdbd2ZcFj"
      },
      "execution_count": null,
      "outputs": []
    }
  ]
}